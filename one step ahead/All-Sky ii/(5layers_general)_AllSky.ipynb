{
  "cells": [
    {
      "cell_type": "code",
      "source": [
        "import pandas as pd\n",
        "from datetime import datetime\n",
        "from pandas import DataFrame\n",
        "from pandas import read_csv\n",
        "#h=pd.read_csv(\"Clearness Index3.csv\" )\n",
        "\n",
        "#h1=h.drop([ 'insolation_clearness_index','temp','Min_temp','Claer_sky_ii','humidity','dew/frost_point','max_temp','wind_s','precipitation'], axis=1)\n",
        "#h1.to_csv('All_sky_ii.csv',  index = None)\n",
        "h1=pd.read_csv(\"All_sky_ii2.csv\" )\n",
        "\n",
        "number = 24\n",
        "elements = 1127\n",
        "\n",
        "thelist = [number] * elements\n",
        "h1['thelist'] = thelist\n",
        "\n",
        "Hour = ['01','02','03','04','05','06','07','08', '09','10','11','12','13','14','15','16','17','18','19','20','21','22','23','00']\n",
        "\n",
        "elements = 1127\n",
        "\n",
        "Hour = [Hour] * elements\n",
        "\n",
        "my_new_list = []\n",
        "for sub_list in Hour:\n",
        "    # Now go over each item of the sublist\n",
        "    for item in sub_list:\n",
        "        # append it to our new list\n",
        "        my_new_list.append(item)\n",
        "        \n",
        "        out =h1.reindex(h1.index.repeat(h1['thelist']))\n",
        "h1=out.drop(['thelist'], axis=1)\n",
        "\n",
        "h1['Hour'] = my_new_list\n",
        "h1[\"DateTime\"] = (h1[\"date\"] +\" \"+ h1[\"Hour\"])\n",
        "h_data=h1.drop(['date','Hour'],axis=1)\n",
        "\n",
        "\n",
        "h_data['DateTime'] = pd.to_datetime(h_data['DateTime'])\n",
        "\n",
        "h_data=h_data.set_index(h_data['DateTime'], drop=False, append=False, inplace=False, verify_integrity=False).drop('DateTime', 1)\n",
        "h_data.columns=['All_Sky_Insolation_Incident']\n",
        "\n",
        "#h_data"
      ],
      "metadata": {
        "id": "_oj2SPqj1AqH"
      },
      "id": "_oj2SPqj1AqH",
      "execution_count": 1,
      "outputs": []
    },
    {
      "cell_type": "code",
      "execution_count": 2,
      "id": "865a699c",
      "metadata": {
        "id": "865a699c"
      },
      "outputs": [],
      "source": [
        "\n",
        "d = pd.read_csv(\"load3.csv\" )\n",
        "\n",
        "d.columns = ['date' ,'01','02','03','04','05','06','07','08', '09','10','11','12','13','14','15','16','17','18','19','20','21','22','23','00']\n",
        "d.to_csv('load3.csv',  index = None)\n",
        "\n",
        "from pandas import DataFrame\n",
        "\n",
        "# read first line\n",
        "with open(\"load3.csv\") as myfile:\n",
        "    headRow = next(myfile)\n",
        "\n",
        "# read column names    \n",
        "columns = [x.strip() for x in headRow.split(',')]\n",
        "\n",
        "# process by pandas\n",
        "data = pd.read_csv(\"load3.csv\", names=columns[1:], skiprows=1)\n",
        "\n",
        "stacked=data.stack()\n",
        "\n",
        "stacked = stacked.to_frame()\n",
        "stacked.columns=['Load']\n",
        "s=stacked.reset_index()\n",
        "s.columns=['Date','Hour','Load']\n",
        "s[\"DateTime\"] = (s[\"Date\"] +\" \"+ s[\"Hour\"])\n",
        "s = s[[\"DateTime\",\"Load\"]]\n",
        "from datetime import datetime\n",
        "\n",
        "s['DateTime'] = pd.to_datetime(s['DateTime'])\n",
        "dataset=s.set_index(s['DateTime'], drop=False, append=False, inplace=False, verify_integrity=False).drop('DateTime', 1)\n",
        "#dataset"
      ]
    },
    {
      "cell_type": "code",
      "execution_count": 3,
      "id": "7cadca36",
      "metadata": {
        "colab": {
          "base_uri": "https://localhost:8080/",
          "height": 455
        },
        "id": "7cadca36",
        "outputId": "0bcec177-5b7e-4426-e9fc-d15c9bb78e58"
      },
      "outputs": [
        {
          "output_type": "execute_result",
          "data": {
            "text/html": [
              "\n",
              "  <div id=\"df-d895a781-5668-4fbe-8963-5cee57e33206\">\n",
              "    <div class=\"colab-df-container\">\n",
              "      <div>\n",
              "<style scoped>\n",
              "    .dataframe tbody tr th:only-of-type {\n",
              "        vertical-align: middle;\n",
              "    }\n",
              "\n",
              "    .dataframe tbody tr th {\n",
              "        vertical-align: top;\n",
              "    }\n",
              "\n",
              "    .dataframe thead th {\n",
              "        text-align: right;\n",
              "    }\n",
              "</style>\n",
              "<table border=\"1\" class=\"dataframe\">\n",
              "  <thead>\n",
              "    <tr style=\"text-align: right;\">\n",
              "      <th></th>\n",
              "      <th>Load</th>\n",
              "      <th>All_Sky_Insolation_Incident</th>\n",
              "    </tr>\n",
              "    <tr>\n",
              "      <th>DateTime</th>\n",
              "      <th></th>\n",
              "      <th></th>\n",
              "    </tr>\n",
              "  </thead>\n",
              "  <tbody>\n",
              "    <tr>\n",
              "      <th>1987-01-01 01:00:00</th>\n",
              "      <td>1733</td>\n",
              "      <td>0.68</td>\n",
              "    </tr>\n",
              "    <tr>\n",
              "      <th>1987-01-01 02:00:00</th>\n",
              "      <td>1636</td>\n",
              "      <td>0.68</td>\n",
              "    </tr>\n",
              "    <tr>\n",
              "      <th>1987-01-01 03:00:00</th>\n",
              "      <td>1564</td>\n",
              "      <td>0.68</td>\n",
              "    </tr>\n",
              "    <tr>\n",
              "      <th>1987-01-01 04:00:00</th>\n",
              "      <td>1526</td>\n",
              "      <td>0.68</td>\n",
              "    </tr>\n",
              "    <tr>\n",
              "      <th>1987-01-01 05:00:00</th>\n",
              "      <td>1515</td>\n",
              "      <td>0.68</td>\n",
              "    </tr>\n",
              "    <tr>\n",
              "      <th>...</th>\n",
              "      <td>...</td>\n",
              "      <td>...</td>\n",
              "    </tr>\n",
              "    <tr>\n",
              "      <th>1990-01-31 20:00:00</th>\n",
              "      <td>3361</td>\n",
              "      <td>3.88</td>\n",
              "    </tr>\n",
              "    <tr>\n",
              "      <th>1990-01-31 21:00:00</th>\n",
              "      <td>3205</td>\n",
              "      <td>3.88</td>\n",
              "    </tr>\n",
              "    <tr>\n",
              "      <th>1990-01-31 22:00:00</th>\n",
              "      <td>2940</td>\n",
              "      <td>3.88</td>\n",
              "    </tr>\n",
              "    <tr>\n",
              "      <th>1990-01-31 23:00:00</th>\n",
              "      <td>2593</td>\n",
              "      <td>3.88</td>\n",
              "    </tr>\n",
              "    <tr>\n",
              "      <th>1990-01-31 00:00:00</th>\n",
              "      <td>2277</td>\n",
              "      <td>3.88</td>\n",
              "    </tr>\n",
              "  </tbody>\n",
              "</table>\n",
              "<p>27048 rows × 2 columns</p>\n",
              "</div>\n",
              "      <button class=\"colab-df-convert\" onclick=\"convertToInteractive('df-d895a781-5668-4fbe-8963-5cee57e33206')\"\n",
              "              title=\"Convert this dataframe to an interactive table.\"\n",
              "              style=\"display:none;\">\n",
              "        \n",
              "  <svg xmlns=\"http://www.w3.org/2000/svg\" height=\"24px\"viewBox=\"0 0 24 24\"\n",
              "       width=\"24px\">\n",
              "    <path d=\"M0 0h24v24H0V0z\" fill=\"none\"/>\n",
              "    <path d=\"M18.56 5.44l.94 2.06.94-2.06 2.06-.94-2.06-.94-.94-2.06-.94 2.06-2.06.94zm-11 1L8.5 8.5l.94-2.06 2.06-.94-2.06-.94L8.5 2.5l-.94 2.06-2.06.94zm10 10l.94 2.06.94-2.06 2.06-.94-2.06-.94-.94-2.06-.94 2.06-2.06.94z\"/><path d=\"M17.41 7.96l-1.37-1.37c-.4-.4-.92-.59-1.43-.59-.52 0-1.04.2-1.43.59L10.3 9.45l-7.72 7.72c-.78.78-.78 2.05 0 2.83L4 21.41c.39.39.9.59 1.41.59.51 0 1.02-.2 1.41-.59l7.78-7.78 2.81-2.81c.8-.78.8-2.07 0-2.86zM5.41 20L4 18.59l7.72-7.72 1.47 1.35L5.41 20z\"/>\n",
              "  </svg>\n",
              "      </button>\n",
              "      \n",
              "  <style>\n",
              "    .colab-df-container {\n",
              "      display:flex;\n",
              "      flex-wrap:wrap;\n",
              "      gap: 12px;\n",
              "    }\n",
              "\n",
              "    .colab-df-convert {\n",
              "      background-color: #E8F0FE;\n",
              "      border: none;\n",
              "      border-radius: 50%;\n",
              "      cursor: pointer;\n",
              "      display: none;\n",
              "      fill: #1967D2;\n",
              "      height: 32px;\n",
              "      padding: 0 0 0 0;\n",
              "      width: 32px;\n",
              "    }\n",
              "\n",
              "    .colab-df-convert:hover {\n",
              "      background-color: #E2EBFA;\n",
              "      box-shadow: 0px 1px 2px rgba(60, 64, 67, 0.3), 0px 1px 3px 1px rgba(60, 64, 67, 0.15);\n",
              "      fill: #174EA6;\n",
              "    }\n",
              "\n",
              "    [theme=dark] .colab-df-convert {\n",
              "      background-color: #3B4455;\n",
              "      fill: #D2E3FC;\n",
              "    }\n",
              "\n",
              "    [theme=dark] .colab-df-convert:hover {\n",
              "      background-color: #434B5C;\n",
              "      box-shadow: 0px 1px 3px 1px rgba(0, 0, 0, 0.15);\n",
              "      filter: drop-shadow(0px 1px 2px rgba(0, 0, 0, 0.3));\n",
              "      fill: #FFFFFF;\n",
              "    }\n",
              "  </style>\n",
              "\n",
              "      <script>\n",
              "        const buttonEl =\n",
              "          document.querySelector('#df-d895a781-5668-4fbe-8963-5cee57e33206 button.colab-df-convert');\n",
              "        buttonEl.style.display =\n",
              "          google.colab.kernel.accessAllowed ? 'block' : 'none';\n",
              "\n",
              "        async function convertToInteractive(key) {\n",
              "          const element = document.querySelector('#df-d895a781-5668-4fbe-8963-5cee57e33206');\n",
              "          const dataTable =\n",
              "            await google.colab.kernel.invokeFunction('convertToInteractive',\n",
              "                                                     [key], {});\n",
              "          if (!dataTable) return;\n",
              "\n",
              "          const docLinkHtml = 'Like what you see? Visit the ' +\n",
              "            '<a target=\"_blank\" href=https://colab.research.google.com/notebooks/data_table.ipynb>data table notebook</a>'\n",
              "            + ' to learn more about interactive tables.';\n",
              "          element.innerHTML = '';\n",
              "          dataTable['output_type'] = 'display_data';\n",
              "          await google.colab.output.renderOutput(dataTable, element);\n",
              "          const docLink = document.createElement('div');\n",
              "          docLink.innerHTML = docLinkHtml;\n",
              "          element.appendChild(docLink);\n",
              "        }\n",
              "      </script>\n",
              "    </div>\n",
              "  </div>\n",
              "  "
            ],
            "text/plain": [
              "                     Load  All_Sky_Insolation_Incident\n",
              "DateTime                                              \n",
              "1987-01-01 01:00:00  1733                         0.68\n",
              "1987-01-01 02:00:00  1636                         0.68\n",
              "1987-01-01 03:00:00  1564                         0.68\n",
              "1987-01-01 04:00:00  1526                         0.68\n",
              "1987-01-01 05:00:00  1515                         0.68\n",
              "...                   ...                          ...\n",
              "1990-01-31 20:00:00  3361                         3.88\n",
              "1990-01-31 21:00:00  3205                         3.88\n",
              "1990-01-31 22:00:00  2940                         3.88\n",
              "1990-01-31 23:00:00  2593                         3.88\n",
              "1990-01-31 00:00:00  2277                         3.88\n",
              "\n",
              "[27048 rows x 2 columns]"
            ]
          },
          "metadata": {},
          "execution_count": 3
        }
      ],
      "source": [
        "df=pd.merge(dataset,h_data,on='DateTime')\n",
        "df"
      ]
    },
    {
      "cell_type": "code",
      "execution_count": 4,
      "id": "207340e7",
      "metadata": {
        "colab": {
          "base_uri": "https://localhost:8080/"
        },
        "id": "207340e7",
        "outputId": "a36db0fa-8f94-4123-b748-bb84188de477"
      },
      "outputs": [
        {
          "output_type": "stream",
          "name": "stdout",
          "text": [
            "16228 10820\n",
            "5410 5410\n"
          ]
        }
      ],
      "source": [
        "import numpy as np\n",
        "\n",
        "train_size = int(len(df) * 0.6)\n",
        "test_size = len(df) - train_size\n",
        "train, test = df.iloc[0:train_size], df.iloc[train_size:len(df)]\n",
        "print(len(train), len(test))\n",
        "\n",
        "test_size = int(len(test) * 0.5)\n",
        "val_size = len(test) - test_size\n",
        "val, test = test.iloc[0:test_size], test.iloc[test_size:len(test)]\n",
        "print(len(test), len(val))"
      ]
    },
    {
      "cell_type": "code",
      "source": [
        "train,val,test"
      ],
      "metadata": {
        "colab": {
          "base_uri": "https://localhost:8080/"
        },
        "id": "7y7KYY9j6DwD",
        "outputId": "7ec8aad7-1cdf-4d74-bd1b-6ced19806762"
      },
      "id": "7y7KYY9j6DwD",
      "execution_count": 5,
      "outputs": [
        {
          "output_type": "execute_result",
          "data": {
            "text/plain": [
              "(                     Load  All_Sky_Insolation_Incident\n",
              " DateTime                                              \n",
              " 1987-01-01 01:00:00  1733                         0.68\n",
              " 1987-01-01 02:00:00  1636                         0.68\n",
              " 1987-01-01 03:00:00  1564                         0.68\n",
              " 1987-01-01 04:00:00  1526                         0.68\n",
              " 1987-01-01 05:00:00  1515                         0.68\n",
              " ...                   ...                          ...\n",
              " 1988-11-06 00:00:00  1707                         3.13\n",
              " 1988-11-07 01:00:00  1552                         1.79\n",
              " 1988-11-07 02:00:00  1514                         1.79\n",
              " 1988-11-07 03:00:00  1499                         1.79\n",
              " 1988-11-07 04:00:00  1531                         1.79\n",
              " \n",
              " [16228 rows x 2 columns],\n",
              "                      Load  All_Sky_Insolation_Incident\n",
              " DateTime                                              \n",
              " 1988-11-07 05:00:00  1620                         1.79\n",
              " 1988-11-07 06:00:00  1947                         1.79\n",
              " 1988-11-07 07:00:00  2501                         1.79\n",
              " 1988-11-07 08:00:00  2793                         1.79\n",
              " 1988-11-07 09:00:00  2747                         1.79\n",
              " ...                   ...                          ...\n",
              " 1989-06-20 10:00:00  2164                         3.10\n",
              " 1989-06-20 11:00:00  2147                         3.10\n",
              " 1989-06-20 12:00:00  2102                         3.10\n",
              " 1989-06-20 13:00:00  2067                         3.10\n",
              " 1989-06-20 14:00:00  2011                         3.10\n",
              " \n",
              " [5410 rows x 2 columns],\n",
              "                      Load  All_Sky_Insolation_Incident\n",
              " DateTime                                              \n",
              " 1989-06-20 15:00:00  1974                         3.10\n",
              " 1989-06-20 16:00:00  1958                         3.10\n",
              " 1989-06-20 17:00:00  1974                         3.10\n",
              " 1989-06-20 18:00:00  2023                         3.10\n",
              " 1989-06-20 19:00:00  2012                         3.10\n",
              " ...                   ...                          ...\n",
              " 1990-01-31 20:00:00  3361                         3.88\n",
              " 1990-01-31 21:00:00  3205                         3.88\n",
              " 1990-01-31 22:00:00  2940                         3.88\n",
              " 1990-01-31 23:00:00  2593                         3.88\n",
              " 1990-01-31 00:00:00  2277                         3.88\n",
              " \n",
              " [5410 rows x 2 columns])"
            ]
          },
          "metadata": {},
          "execution_count": 5
        }
      ]
    },
    {
      "cell_type": "code",
      "execution_count": 6,
      "id": "52bfb44a",
      "metadata": {
        "colab": {
          "base_uri": "https://localhost:8080/"
        },
        "id": "52bfb44a",
        "outputId": "b177a52a-5bd0-4cd7-bea3-7ce9a76e4dc8"
      },
      "outputs": [
        {
          "output_type": "stream",
          "name": "stderr",
          "text": [
            "/usr/local/lib/python3.7/dist-packages/pandas/core/indexing.py:1734: SettingWithCopyWarning: \n",
            "A value is trying to be set on a copy of a slice from a DataFrame.\n",
            "Try using .loc[row_indexer,col_indexer] = value instead\n",
            "\n",
            "See the caveats in the documentation: https://pandas.pydata.org/pandas-docs/stable/user_guide/indexing.html#returning-a-view-versus-a-copy\n",
            "  isetter(loc, value[:, i].tolist())\n",
            "/usr/local/lib/python3.7/dist-packages/ipykernel_launcher.py:12: SettingWithCopyWarning: \n",
            "A value is trying to be set on a copy of a slice from a DataFrame.\n",
            "Try using .loc[row_indexer,col_indexer] = value instead\n",
            "\n",
            "See the caveats in the documentation: https://pandas.pydata.org/pandas-docs/stable/user_guide/indexing.html#returning-a-view-versus-a-copy\n",
            "  if sys.path[0] == '':\n"
          ]
        }
      ],
      "source": [
        "from sklearn.preprocessing import MinMaxScaler\n",
        "\n",
        "f_columns = ['All_Sky_Insolation_Incident']\n",
        "\n",
        "f_transformer = MinMaxScaler()\n",
        "t_transformer = MinMaxScaler()\n",
        "\n",
        "f_transformer = f_transformer.fit(train[f_columns].to_numpy())\n",
        "t_transformer = t_transformer.fit(train[['Load']])\n",
        "\n",
        "train.loc[:, f_columns] = f_transformer.transform(train[f_columns].to_numpy())\n",
        "train['Load'] = t_transformer.transform(train[['Load']])\n",
        "\n",
        "val.loc[:, f_columns] = f_transformer.transform(val[f_columns].to_numpy())\n",
        "val['Load'] = t_transformer.transform(val[['Load']])\n",
        "\n",
        "\n",
        "test.loc[:, f_columns] = f_transformer.transform(test[f_columns].to_numpy())\n",
        "test['Load'] = t_transformer.transform(test[['Load']])"
      ]
    },
    {
      "cell_type": "code",
      "execution_count": 7,
      "id": "8f59d702",
      "metadata": {
        "id": "8f59d702"
      },
      "outputs": [],
      "source": [
        "def create_dataset(X, y, time_steps=1):\n",
        "    Xs, ys = [], []\n",
        "    for i in range(len(X) - time_steps):\n",
        "        v = X.iloc[i:(i + time_steps)].values\n",
        "        Xs.append(v)        \n",
        "        ys.append(y.iloc[i + time_steps])\n",
        "    return np.array(Xs), np.array(ys)\n",
        "\n"
      ]
    },
    {
      "cell_type": "code",
      "execution_count": 8,
      "id": "4a1f7442",
      "metadata": {
        "colab": {
          "base_uri": "https://localhost:8080/"
        },
        "id": "4a1f7442",
        "outputId": "299d4164-fb09-42a7-bfc9-b0d5eb70e5c8"
      },
      "outputs": [
        {
          "output_type": "stream",
          "name": "stdout",
          "text": [
            "(16204, 24, 2) (16204,) (5386, 24, 2) (5386,) (5386, 24, 2) (5386,)\n"
          ]
        }
      ],
      "source": [
        "import numpy as np\n",
        "\n",
        "time_steps = 24\n",
        "\n",
        "# reshape to [samples, time_steps, n_features]\n",
        "\n",
        "X_train, y_train = create_dataset(train, train.Load, time_steps)\n",
        "\n",
        "X_validate, y_validate = create_dataset(val, val.Load, time_steps)\n",
        "\n",
        "X_test, y_test = create_dataset(test, test.Load, time_steps)\n",
        "\n",
        "\n",
        "print(X_train.shape, y_train.shape,X_validate.shape, y_validate.shape,X_test.shape, y_test.shape)"
      ]
    },
    {
      "cell_type": "code",
      "source": [
        "!pip install keras_tuner"
      ],
      "metadata": {
        "colab": {
          "base_uri": "https://localhost:8080/"
        },
        "id": "n_LiVxrI2rI5",
        "outputId": "48ab9028-6730-44c6-e617-484e90c1e5a8"
      },
      "id": "n_LiVxrI2rI5",
      "execution_count": 9,
      "outputs": [
        {
          "output_type": "stream",
          "name": "stdout",
          "text": [
            "Collecting keras_tuner\n",
            "  Downloading keras_tuner-1.1.0-py3-none-any.whl (98 kB)\n",
            "\u001b[?25l\r\u001b[K     |███▍                            | 10 kB 23.4 MB/s eta 0:00:01\r\u001b[K     |██████▊                         | 20 kB 12.0 MB/s eta 0:00:01\r\u001b[K     |██████████                      | 30 kB 9.6 MB/s eta 0:00:01\r\u001b[K     |█████████████▍                  | 40 kB 8.7 MB/s eta 0:00:01\r\u001b[K     |████████████████▊               | 51 kB 5.5 MB/s eta 0:00:01\r\u001b[K     |████████████████████            | 61 kB 5.6 MB/s eta 0:00:01\r\u001b[K     |███████████████████████▍        | 71 kB 5.6 MB/s eta 0:00:01\r\u001b[K     |██████████████████████████▊     | 81 kB 6.2 MB/s eta 0:00:01\r\u001b[K     |██████████████████████████████  | 92 kB 6.2 MB/s eta 0:00:01\r\u001b[K     |████████████████████████████████| 98 kB 3.6 MB/s \n",
            "\u001b[?25hRequirement already satisfied: numpy in /usr/local/lib/python3.7/dist-packages (from keras_tuner) (1.19.5)\n",
            "Requirement already satisfied: ipython in /usr/local/lib/python3.7/dist-packages (from keras_tuner) (5.5.0)\n",
            "Requirement already satisfied: packaging in /usr/local/lib/python3.7/dist-packages (from keras_tuner) (21.3)\n",
            "Requirement already satisfied: scipy in /usr/local/lib/python3.7/dist-packages (from keras_tuner) (1.4.1)\n",
            "Requirement already satisfied: tensorboard in /usr/local/lib/python3.7/dist-packages (from keras_tuner) (2.7.0)\n",
            "Requirement already satisfied: requests in /usr/local/lib/python3.7/dist-packages (from keras_tuner) (2.23.0)\n",
            "Collecting kt-legacy\n",
            "  Downloading kt_legacy-1.0.4-py3-none-any.whl (9.6 kB)\n",
            "Requirement already satisfied: setuptools>=18.5 in /usr/local/lib/python3.7/dist-packages (from ipython->keras_tuner) (57.4.0)\n",
            "Requirement already satisfied: pexpect in /usr/local/lib/python3.7/dist-packages (from ipython->keras_tuner) (4.8.0)\n",
            "Requirement already satisfied: simplegeneric>0.8 in /usr/local/lib/python3.7/dist-packages (from ipython->keras_tuner) (0.8.1)\n",
            "Requirement already satisfied: prompt-toolkit<2.0.0,>=1.0.4 in /usr/local/lib/python3.7/dist-packages (from ipython->keras_tuner) (1.0.18)\n",
            "Requirement already satisfied: pygments in /usr/local/lib/python3.7/dist-packages (from ipython->keras_tuner) (2.6.1)\n",
            "Requirement already satisfied: traitlets>=4.2 in /usr/local/lib/python3.7/dist-packages (from ipython->keras_tuner) (5.1.1)\n",
            "Requirement already satisfied: pickleshare in /usr/local/lib/python3.7/dist-packages (from ipython->keras_tuner) (0.7.5)\n",
            "Requirement already satisfied: decorator in /usr/local/lib/python3.7/dist-packages (from ipython->keras_tuner) (4.4.2)\n",
            "Requirement already satisfied: wcwidth in /usr/local/lib/python3.7/dist-packages (from prompt-toolkit<2.0.0,>=1.0.4->ipython->keras_tuner) (0.2.5)\n",
            "Requirement already satisfied: six>=1.9.0 in /usr/local/lib/python3.7/dist-packages (from prompt-toolkit<2.0.0,>=1.0.4->ipython->keras_tuner) (1.15.0)\n",
            "Requirement already satisfied: pyparsing!=3.0.5,>=2.0.2 in /usr/local/lib/python3.7/dist-packages (from packaging->keras_tuner) (3.0.6)\n",
            "Requirement already satisfied: ptyprocess>=0.5 in /usr/local/lib/python3.7/dist-packages (from pexpect->ipython->keras_tuner) (0.7.0)\n",
            "Requirement already satisfied: urllib3!=1.25.0,!=1.25.1,<1.26,>=1.21.1 in /usr/local/lib/python3.7/dist-packages (from requests->keras_tuner) (1.24.3)\n",
            "Requirement already satisfied: certifi>=2017.4.17 in /usr/local/lib/python3.7/dist-packages (from requests->keras_tuner) (2021.10.8)\n",
            "Requirement already satisfied: chardet<4,>=3.0.2 in /usr/local/lib/python3.7/dist-packages (from requests->keras_tuner) (3.0.4)\n",
            "Requirement already satisfied: idna<3,>=2.5 in /usr/local/lib/python3.7/dist-packages (from requests->keras_tuner) (2.10)\n",
            "Requirement already satisfied: tensorboard-plugin-wit>=1.6.0 in /usr/local/lib/python3.7/dist-packages (from tensorboard->keras_tuner) (1.8.0)\n",
            "Requirement already satisfied: grpcio>=1.24.3 in /usr/local/lib/python3.7/dist-packages (from tensorboard->keras_tuner) (1.42.0)\n",
            "Requirement already satisfied: wheel>=0.26 in /usr/local/lib/python3.7/dist-packages (from tensorboard->keras_tuner) (0.37.0)\n",
            "Requirement already satisfied: protobuf>=3.6.0 in /usr/local/lib/python3.7/dist-packages (from tensorboard->keras_tuner) (3.17.3)\n",
            "Requirement already satisfied: google-auth-oauthlib<0.5,>=0.4.1 in /usr/local/lib/python3.7/dist-packages (from tensorboard->keras_tuner) (0.4.6)\n",
            "Requirement already satisfied: werkzeug>=0.11.15 in /usr/local/lib/python3.7/dist-packages (from tensorboard->keras_tuner) (1.0.1)\n",
            "Requirement already satisfied: google-auth<3,>=1.6.3 in /usr/local/lib/python3.7/dist-packages (from tensorboard->keras_tuner) (1.35.0)\n",
            "Requirement already satisfied: absl-py>=0.4 in /usr/local/lib/python3.7/dist-packages (from tensorboard->keras_tuner) (0.12.0)\n",
            "Requirement already satisfied: tensorboard-data-server<0.7.0,>=0.6.0 in /usr/local/lib/python3.7/dist-packages (from tensorboard->keras_tuner) (0.6.1)\n",
            "Requirement already satisfied: markdown>=2.6.8 in /usr/local/lib/python3.7/dist-packages (from tensorboard->keras_tuner) (3.3.6)\n",
            "Requirement already satisfied: rsa<5,>=3.1.4 in /usr/local/lib/python3.7/dist-packages (from google-auth<3,>=1.6.3->tensorboard->keras_tuner) (4.8)\n",
            "Requirement already satisfied: cachetools<5.0,>=2.0.0 in /usr/local/lib/python3.7/dist-packages (from google-auth<3,>=1.6.3->tensorboard->keras_tuner) (4.2.4)\n",
            "Requirement already satisfied: pyasn1-modules>=0.2.1 in /usr/local/lib/python3.7/dist-packages (from google-auth<3,>=1.6.3->tensorboard->keras_tuner) (0.2.8)\n",
            "Requirement already satisfied: requests-oauthlib>=0.7.0 in /usr/local/lib/python3.7/dist-packages (from google-auth-oauthlib<0.5,>=0.4.1->tensorboard->keras_tuner) (1.3.0)\n",
            "Requirement already satisfied: importlib-metadata>=4.4 in /usr/local/lib/python3.7/dist-packages (from markdown>=2.6.8->tensorboard->keras_tuner) (4.8.2)\n",
            "Requirement already satisfied: zipp>=0.5 in /usr/local/lib/python3.7/dist-packages (from importlib-metadata>=4.4->markdown>=2.6.8->tensorboard->keras_tuner) (3.6.0)\n",
            "Requirement already satisfied: typing-extensions>=3.6.4 in /usr/local/lib/python3.7/dist-packages (from importlib-metadata>=4.4->markdown>=2.6.8->tensorboard->keras_tuner) (3.10.0.2)\n",
            "Requirement already satisfied: pyasn1<0.5.0,>=0.4.6 in /usr/local/lib/python3.7/dist-packages (from pyasn1-modules>=0.2.1->google-auth<3,>=1.6.3->tensorboard->keras_tuner) (0.4.8)\n",
            "Requirement already satisfied: oauthlib>=3.0.0 in /usr/local/lib/python3.7/dist-packages (from requests-oauthlib>=0.7.0->google-auth-oauthlib<0.5,>=0.4.1->tensorboard->keras_tuner) (3.1.1)\n",
            "Installing collected packages: kt-legacy, keras-tuner\n",
            "Successfully installed keras-tuner-1.1.0 kt-legacy-1.0.4\n"
          ]
        }
      ]
    },
    {
      "cell_type": "code",
      "execution_count": 10,
      "id": "ea458a8c",
      "metadata": {
        "id": "ea458a8c"
      },
      "outputs": [],
      "source": [
        "import pandas as pd\n",
        "import math\n",
        "import keras\n",
        "import numpy as np\n",
        "from sklearn.preprocessing import MinMaxScaler\n",
        "from tensorflow.keras.models import save_model\n",
        "from tensorflow.keras.models import model_from_json\n",
        "from tensorflow.keras.models import Sequential\n",
        "from tensorflow.keras.layers import Dense\n",
        "from tensorflow.keras.layers import LSTM\n",
        "from tensorflow.keras.layers import Dropout\n",
        "import keras_tuner\n",
        "#from kerastuner.tuners import RandomSearch\n",
        "#from kerastuner.engine.hyperparameters import HyperParameters\n",
        "from pickle import dump,load\n",
        "from keras_tuner import RandomSearch\n",
        "from keras_tuner import HyperModel\n",
        "from keras_tuner import HyperParameters\n",
        "import warnings\n",
        "warnings.simplefilter(\"ignore\", UserWarning)\n",
        "from tensorflow.keras import layers\n"
      ]
    },
    {
      "cell_type": "code",
      "execution_count": 11,
      "id": "2bc7cbba",
      "metadata": {
        "id": "2bc7cbba"
      },
      "outputs": [],
      "source": [
        "from tensorflow.keras.callbacks import EarlyStopping\n",
        "custom_early_stopping = EarlyStopping(\n",
        "    monitor='val_loss', \n",
        "    patience=5, \n",
        "    min_delta=0.001, #10^-3\n",
        "    mode='auto'\n",
        ")"
      ]
    },
    {
      "cell_type": "code",
      "source": [
        "import tensorflow as tf\n",
        "def build_model(hp):\n",
        "    model = keras.Sequential()\n",
        "    \n",
        "    model.add(layers.LSTM(units=hp.Int('units_1' ,\n",
        "                                            min_value=32,\n",
        "                                            max_value=612,\n",
        "                                            step=32),\n",
        "                          input_shape=(X_train.shape[1], X_train.shape[2])\n",
        "                             ,return_sequences=True))\n",
        "    \n",
        "    model.add(layers.LSTM(units=hp.Int('units_2' ,\n",
        "                                            min_value=32,\n",
        "                                            max_value=612,\n",
        "                                            step=32)\n",
        "                             ,return_sequences=True))\n",
        "    \n",
        "    model.add(layers.LSTM(units=hp.Int('units_3' ,\n",
        "                                            min_value=32,\n",
        "                                            max_value=612,\n",
        "                                            step=32)\n",
        "                             ,return_sequences=True))\n",
        "    \n",
        "    model.add(layers.LSTM(units=hp.Int('units_4' ,\n",
        "                                            min_value=32,\n",
        "                                            max_value=612,\n",
        "                                            step=32)\n",
        "                             ,return_sequences=True))\n",
        "    \n",
        "    model.add(layers.LSTM(units=hp.Int('Last_units' ,\n",
        "                                            min_value=32,\n",
        "                                            max_value=612,\n",
        "                                            step=32) ))\n",
        "   \n",
        "    \n",
        "    #if hp.Boolean(\"dropout\"):\n",
        "      # model.add(layers.Dropout(rate=0.25)) \n",
        "\n",
        "    model.add(layers.Dense(1))\n",
        "    model.compile(\n",
        "        optimizer=tf.keras.optimizers.Adam( ),\n",
        "        loss='mean_squared_error',\n",
        "        metrics=['mse'])\n",
        "    return model"
      ],
      "metadata": {
        "id": "Hv7GkIgDnzHY"
      },
      "id": "Hv7GkIgDnzHY",
      "execution_count": 12,
      "outputs": []
    },
    {
      "cell_type": "code",
      "execution_count": 13,
      "id": "8dc850a9",
      "metadata": {
        "id": "8dc850a9"
      },
      "outputs": [],
      "source": [
        "tuner = RandomSearch(\n",
        "    build_model,\n",
        "    objective='val_mse',\n",
        "    max_trials=5,\n",
        "    executions_per_trial=1,\n",
        "    overwrite=True\n",
        ")"
      ]
    },
    {
      "cell_type": "code",
      "execution_count": 14,
      "id": "8dc7c804",
      "metadata": {
        "colab": {
          "base_uri": "https://localhost:8080/"
        },
        "id": "8dc7c804",
        "outputId": "9d66f0e2-765b-41ac-fc93-18836fbb58d2"
      },
      "outputs": [
        {
          "output_type": "stream",
          "name": "stdout",
          "text": [
            "Search space summary\n",
            "Default search space size: 5\n",
            "units_1 (Int)\n",
            "{'default': None, 'conditions': [], 'min_value': 32, 'max_value': 612, 'step': 32, 'sampling': None}\n",
            "units_2 (Int)\n",
            "{'default': None, 'conditions': [], 'min_value': 32, 'max_value': 612, 'step': 32, 'sampling': None}\n",
            "units_3 (Int)\n",
            "{'default': None, 'conditions': [], 'min_value': 32, 'max_value': 612, 'step': 32, 'sampling': None}\n",
            "units_4 (Int)\n",
            "{'default': None, 'conditions': [], 'min_value': 32, 'max_value': 612, 'step': 32, 'sampling': None}\n",
            "Last_units (Int)\n",
            "{'default': None, 'conditions': [], 'min_value': 32, 'max_value': 612, 'step': 32, 'sampling': None}\n"
          ]
        }
      ],
      "source": [
        "tuner.search_space_summary()"
      ]
    },
    {
      "cell_type": "code",
      "execution_count": 15,
      "id": "c38a41f6",
      "metadata": {
        "id": "c38a41f6",
        "colab": {
          "base_uri": "https://localhost:8080/"
        },
        "outputId": "c4954e62-9ff3-494b-b2dd-6057a983897a"
      },
      "outputs": [
        {
          "output_type": "stream",
          "name": "stdout",
          "text": [
            "Trial 5 Complete [01h 03m 39s]\n",
            "val_mse: 0.0004770832892972976\n",
            "\n",
            "Best val_mse So Far: 0.0004265903262421489\n",
            "Total elapsed time: 07h 37m 42s\n",
            "INFO:tensorflow:Oracle triggered exit\n"
          ]
        }
      ],
      "source": [
        "tuner.search(\n",
        "        x=X_train,\n",
        "        y= y_train,\n",
        "        epochs=200,\n",
        "        batch_size=32,\n",
        "        validation_data=(X_validate, y_validate),\n",
        "        callbacks=[custom_early_stopping]\n",
        ")"
      ]
    },
    {
      "cell_type": "code",
      "execution_count": 16,
      "metadata": {
        "colab": {
          "base_uri": "https://localhost:8080/"
        },
        "id": "8007c390",
        "outputId": "2377b766-942e-40e1-bdde-b4277f5abfa4"
      },
      "outputs": [
        {
          "output_type": "stream",
          "name": "stdout",
          "text": [
            "Results summary\n",
            "Results in ./untitled_project\n",
            "Showing 10 best trials\n",
            "Objective(name='val_mse', direction='min')\n",
            "Trial summary\n",
            "Hyperparameters:\n",
            "units_1: 192\n",
            "units_2: 32\n",
            "units_3: 512\n",
            "units_4: 160\n",
            "Last_units: 352\n",
            "Score: 0.0004265903262421489\n",
            "Trial summary\n",
            "Hyperparameters:\n",
            "units_1: 448\n",
            "units_2: 416\n",
            "units_3: 288\n",
            "units_4: 416\n",
            "Last_units: 288\n",
            "Score: 0.00043278344674035907\n",
            "Trial summary\n",
            "Hyperparameters:\n",
            "units_1: 128\n",
            "units_2: 384\n",
            "units_3: 352\n",
            "units_4: 544\n",
            "Last_units: 96\n",
            "Score: 0.0004592783807311207\n",
            "Trial summary\n",
            "Hyperparameters:\n",
            "units_1: 160\n",
            "units_2: 288\n",
            "units_3: 448\n",
            "units_4: 224\n",
            "Last_units: 160\n",
            "Score: 0.0004770832892972976\n",
            "Trial summary\n",
            "Hyperparameters:\n",
            "units_1: 192\n",
            "units_2: 544\n",
            "units_3: 576\n",
            "units_4: 448\n",
            "Last_units: 192\n",
            "Score: 0.0004989639273844659\n"
          ]
        }
      ],
      "source": [
        "tuner.results_summary()"
      ],
      "id": "8007c390"
    },
    {
      "cell_type": "code",
      "execution_count": null,
      "id": "7d364b3c",
      "metadata": {
        "id": "7d364b3c",
        "colab": {
          "base_uri": "https://localhost:8080/"
        },
        "outputId": "824d889c-149d-4c37-a731-517c4031a929"
      },
      "outputs": [
        {
          "output_type": "stream",
          "name": "stdout",
          "text": [
            "507/507 [==============================] - 238s 434ms/step - loss: 2.4614e-04 - mse: 2.4614e-04 - val_loss: 1.8640e-04 - val_mse: 1.8640e-04\n"
          ]
        }
      ],
      "source": [
        "model=tuner.get_best_models()[0]\n",
        "history=model.fit(X_train,y_train, epochs=1, validation_data=(X_test, y_test),\n",
        "                  callbacks=[custom_early_stopping])"
      ]
    },
    {
      "cell_type": "code",
      "source": [
        ""
      ],
      "metadata": {
        "id": "CnjoetH8KKms"
      },
      "id": "CnjoetH8KKms",
      "execution_count": null,
      "outputs": []
    },
    {
      "cell_type": "code",
      "source": [
        "model.summary()\n"
      ],
      "metadata": {
        "colab": {
          "base_uri": "https://localhost:8080/"
        },
        "id": "S08rkkbRwaCp",
        "outputId": "b41edda0-ad9a-4150-d202-3fe4fdf8befb"
      },
      "id": "S08rkkbRwaCp",
      "execution_count": null,
      "outputs": [
        {
          "output_type": "stream",
          "name": "stdout",
          "text": [
            "Model: \"sequential\"\n",
            "_________________________________________________________________\n",
            " Layer (type)                Output Shape              Param #   \n",
            "=================================================================\n",
            " lstm (LSTM)                 (None, 24, 64)            17152     \n",
            "                                                                 \n",
            " lstm_1 (LSTM)               (None, 24, 384)           689664    \n",
            "                                                                 \n",
            " lstm_2 (LSTM)               (None, 24, 288)           775296    \n",
            "                                                                 \n",
            " lstm_3 (LSTM)               (None, 192)               369408    \n",
            "                                                                 \n",
            " dense (Dense)               (None, 1)                 193       \n",
            "                                                                 \n",
            "=================================================================\n",
            "Total params: 1,851,713\n",
            "Trainable params: 1,851,713\n",
            "Non-trainable params: 0\n",
            "_________________________________________________________________\n"
          ]
        }
      ]
    },
    {
      "cell_type": "code",
      "source": [
        "from matplotlib import pyplot\n",
        "import matplotlib.pyplot as plt\n",
        "\n",
        "# list all data in history\n",
        "print(history.history.keys())\n",
        "# summarize history for accuracy\n",
        "plt.plot(history.history['loss'])\n",
        "plt.plot(history.history['val_loss'])\n",
        "plt.title('model loss')\n",
        "plt.ylabel('loss')\n",
        "plt.xlabel('epoch')\n",
        "plt.legend(['train', 'val'], loc='upper left')\n"
      ],
      "metadata": {
        "colab": {
          "base_uri": "https://localhost:8080/",
          "height": 330
        },
        "id": "sQFxomh1wYO6",
        "outputId": "66229696-f43a-4f10-e185-1e5c589109b4"
      },
      "id": "sQFxomh1wYO6",
      "execution_count": null,
      "outputs": [
        {
          "output_type": "stream",
          "name": "stdout",
          "text": [
            "dict_keys(['loss', 'mse', 'val_loss', 'val_mse'])\n"
          ]
        },
        {
          "output_type": "execute_result",
          "data": {
            "text/plain": [
              "<matplotlib.legend.Legend at 0x7f7064bdeb50>"
            ]
          },
          "metadata": {},
          "execution_count": 22
        },
        {
          "output_type": "display_data",
          "data": {
            "image/png": "[encoded data removed]",
            "text/plain": [
              "<Figure size 432x288 with 1 Axes>"
            ]
          },
          "metadata": {
            "needs_background": "light"
          }
        }
      ]
    },
    {
      "cell_type": "code",
      "source": [
        ""
      ],
      "metadata": {
        "id": "t6Ma_LV-KMBL"
      },
      "id": "t6Ma_LV-KMBL",
      "execution_count": null,
      "outputs": []
    },
    {
      "cell_type": "code",
      "execution_count": null,
      "metadata": {
        "id": "Ibl_EjDJxi6s"
      },
      "outputs": [],
      "source": [
        "y_pred = model.predict(X_test)"
      ],
      "id": "Ibl_EjDJxi6s"
    },
    {
      "cell_type": "code",
      "source": [
        ""
      ],
      "metadata": {
        "id": "UsANT7CTKPjv"
      },
      "id": "UsANT7CTKPjv",
      "execution_count": null,
      "outputs": []
    },
    {
      "cell_type": "code",
      "execution_count": null,
      "metadata": {
        "id": "NwR2C38rxo-r"
      },
      "outputs": [],
      "source": [
        "from math import sqrt\n",
        "from sklearn.metrics import mean_squared_error\n",
        "\n",
        "\n",
        "###### ???????#####\n",
        "y_train_inv = t_transformer.inverse_transform(y_train.reshape(1, -1))\n",
        "y_test_inv = t_transformer.inverse_transform(y_test.reshape((len(y_test), 1)))\n",
        "y_pred_inv = t_transformer.inverse_transform(y_pred)"
      ],
      "id": "NwR2C38rxo-r"
    },
    {
      "cell_type": "code",
      "source": [
        ""
      ],
      "metadata": {
        "id": "-AksEVxpKPma"
      },
      "id": "-AksEVxpKPma",
      "execution_count": null,
      "outputs": []
    },
    {
      "cell_type": "code",
      "execution_count": null,
      "metadata": {
        "colab": {
          "base_uri": "https://localhost:8080/"
        },
        "id": "i8JlBJ0hxr2b",
        "outputId": "e1b4f297-9af3-482f-df20-f8f0453eec27"
      },
      "outputs": [
        {
          "output_type": "stream",
          "name": "stdout",
          "text": [
            "Test RMSE: 49.396\n"
          ]
        }
      ],
      "source": [
        "# calculate RMSE\n",
        "rmse = sqrt(mean_squared_error(y_test_inv, y_pred_inv))\n",
        "print('Test RMSE: %.3f' % rmse)\n"
      ],
      "id": "i8JlBJ0hxr2b"
    },
    {
      "cell_type": "code",
      "source": [
        ""
      ],
      "metadata": {
        "id": "1TmC85DoKPou"
      },
      "id": "1TmC85DoKPou",
      "execution_count": null,
      "outputs": []
    },
    {
      "cell_type": "code",
      "execution_count": null,
      "metadata": {
        "colab": {
          "base_uri": "https://localhost:8080/"
        },
        "id": "BYYkww1WxvL9",
        "outputId": "21945b45-9930-4338-9db1-3b9a1058590c"
      },
      "outputs": [
        {
          "output_type": "stream",
          "name": "stdout",
          "text": [
            "0.019726662295672357\n"
          ]
        }
      ],
      "source": [
        "actual_test=y_test_inv\n",
        "Nrmse_test=rmse /(actual_test.max() - actual_test.min())\n",
        "\n",
        "print(Nrmse_test)"
      ],
      "id": "BYYkww1WxvL9"
    },
    {
      "cell_type": "code",
      "source": [
        "from sklearn.metrics import mean_absolute_percentage_error\n",
        "mean_absolute_percentage_error(y_test_inv, y_pred_inv)"
      ],
      "metadata": {
        "colab": {
          "base_uri": "https://localhost:8080/"
        },
        "id": "nSfr6VHYi6ym",
        "outputId": "c1d784c3-4a4f-40cb-b3ec-0a02e8123691"
      },
      "id": "nSfr6VHYi6ym",
      "execution_count": null,
      "outputs": [
        {
          "output_type": "execute_result",
          "data": {
            "text/plain": [
              "0.01780175252219751"
            ]
          },
          "metadata": {},
          "execution_count": 27
        }
      ]
    },
    {
      "cell_type": "code",
      "source": [
        "from sklearn.metrics import mean_absolute_error\n",
        "mean_absolute_error(y_test_inv, y_pred_inv)"
      ],
      "metadata": {
        "colab": {
          "base_uri": "https://localhost:8080/"
        },
        "id": "bl_7Q28ujEn7",
        "outputId": "70e1a05f-df56-442b-f89e-571c5ab9aa80"
      },
      "id": "bl_7Q28ujEn7",
      "execution_count": null,
      "outputs": [
        {
          "output_type": "execute_result",
          "data": {
            "text/plain": [
              "36.75902923685974"
            ]
          },
          "metadata": {},
          "execution_count": 28
        }
      ]
    }
  ],
  "metadata": {
    "kernelspec": {
      "display_name": "Python 3 (ipykernel)",
      "language": "python",
      "name": "python3"
    },
    "language_info": {
      "codemirror_mode": {
        "name": "ipython",
        "version": 3
      },
      "file_extension": ".py",
      "mimetype": "text/x-python",
      "name": "python",
      "nbconvert_exporter": "python",
      "pygments_lexer": "ipython3",
      "version": "3.8.11"
    },
    "colab": {
      "name": "(5layers_general)-AllSky.ipynb",
      "provenance": [],
      "collapsed_sections": []
    }
  },
  "nbformat": 4,
  "nbformat_minor": 5
}