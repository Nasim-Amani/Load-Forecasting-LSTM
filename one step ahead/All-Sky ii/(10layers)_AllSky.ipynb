{
  "cells": [
    {
      "cell_type": "code",
      "execution_count": null,
      "metadata": {
        "id": "77f78845"
      },
      "outputs": [],
      "source": [
        "import pandas as pd\n",
        "from datetime import datetime\n",
        "from pandas import DataFrame\n",
        "from pandas import read_csv\n",
        "#h=pd.read_csv(\"Clearness Index3.csv\" )\n",
        "\n",
        "#h1=h.drop([ 'insolation_clearness_index','temp','Min_temp','Claer_sky_ii','humidity','dew/frost_point','max_temp','wind_s','precipitation'], axis=1)\n",
        "#h1.to_csv('All_sky_ii.csv',  index = None)\n",
        "h1=pd.read_csv(\"All_sky_ii2.csv\" )\n",
        "\n",
        "number = 24\n",
        "elements = 1127\n",
        "\n",
        "thelist = [number] * elements\n",
        "h1['thelist'] = thelist\n",
        "\n",
        "Hour = ['01','02','03','04','05','06','07','08', '09','10','11','12','13','14','15','16','17','18','19','20','21','22','23','00']\n",
        "\n",
        "elements = 1127\n",
        "\n",
        "Hour = [Hour] * elements\n",
        "\n",
        "my_new_list = []\n",
        "for sub_list in Hour:\n",
        "    # Now go over each item of the sublist\n",
        "    for item in sub_list:\n",
        "        # append it to our new list\n",
        "        my_new_list.append(item)\n",
        "        \n",
        "        out =h1.reindex(h1.index.repeat(h1['thelist']))\n",
        "h1=out.drop(['thelist'], axis=1)\n",
        "\n",
        "h1['Hour'] = my_new_list\n",
        "h1[\"DateTime\"] = (h1[\"date\"] +\" \"+ h1[\"Hour\"])\n",
        "h_data=h1.drop(['date','Hour'],axis=1)\n",
        "\n",
        "\n",
        "h_data['DateTime'] = pd.to_datetime(h_data['DateTime'])\n",
        "\n",
        "h_data=h_data.set_index(h_data['DateTime'], drop=False, append=False, inplace=False, verify_integrity=False).drop('DateTime', 1)\n",
        "h_data.columns=['All_Sky_Insolation_Incident']\n",
        "\n",
        "#h_data"
      ],
      "id": "77f78845"
    },
    {
      "cell_type": "code",
      "execution_count": null,
      "metadata": {
        "id": "865a699c"
      },
      "outputs": [],
      "source": [
        "\n",
        "d = pd.read_csv(\"load3.csv\" )\n",
        "\n",
        "d.columns = ['date' ,'01','02','03','04','05','06','07','08', '09','10','11','12','13','14','15','16','17','18','19','20','21','22','23','00']\n",
        "d.to_csv('load3.csv',  index = None)\n",
        "\n",
        "from pandas import DataFrame\n",
        "\n",
        "# read first line\n",
        "with open(\"load3.csv\") as myfile:\n",
        "    headRow = next(myfile)\n",
        "\n",
        "# read column names    \n",
        "columns = [x.strip() for x in headRow.split(',')]\n",
        "\n",
        "# process by pandas\n",
        "data = pd.read_csv(\"load3.csv\", names=columns[1:], skiprows=1)\n",
        "\n",
        "stacked=data.stack()\n",
        "\n",
        "stacked = stacked.to_frame()\n",
        "stacked.columns=['Load']\n",
        "s=stacked.reset_index()\n",
        "s.columns=['Date','Hour','Load']\n",
        "s[\"DateTime\"] = (s[\"Date\"] +\" \"+ s[\"Hour\"])\n",
        "s = s[[\"DateTime\",\"Load\"]]\n",
        "from datetime import datetime\n",
        "\n",
        "s['DateTime'] = pd.to_datetime(s['DateTime'])\n",
        "dataset=s.set_index(s['DateTime'], drop=False, append=False, inplace=False, verify_integrity=False).drop('DateTime', 1)\n",
        "#dataset"
      ],
      "id": "865a699c"
    },
    {
      "cell_type": "code",
      "execution_count": null,
      "metadata": {
        "colab": {
          "base_uri": "https://localhost:8080/",
          "height": 455
        },
        "id": "7cadca36",
        "outputId": "c7dc1276-f377-42a5-8001-2e2bcb0640e0"
      },
      "outputs": [
        {
          "data": {
            "text/html": [
              "\n",
              "  <div id=\"df-8836acb3-2de3-4287-9123-26f4b10c0dcd\">\n",
              "    <div class=\"colab-df-container\">\n",
              "      <div>\n",
              "<style scoped>\n",
              "    .dataframe tbody tr th:only-of-type {\n",
              "        vertical-align: middle;\n",
              "    }\n",
              "\n",
              "    .dataframe tbody tr th {\n",
              "        vertical-align: top;\n",
              "    }\n",
              "\n",
              "    .dataframe thead th {\n",
              "        text-align: right;\n",
              "    }\n",
              "</style>\n",
              "<table border=\"1\" class=\"dataframe\">\n",
              "  <thead>\n",
              "    <tr style=\"text-align: right;\">\n",
              "      <th></th>\n",
              "      <th>Load</th>\n",
              "      <th>All_Sky_Insolation_Incident</th>\n",
              "    </tr>\n",
              "    <tr>\n",
              "      <th>DateTime</th>\n",
              "      <th></th>\n",
              "      <th></th>\n",
              "    </tr>\n",
              "  </thead>\n",
              "  <tbody>\n",
              "    <tr>\n",
              "      <th>1987-01-01 01:00:00</th>\n",
              "      <td>1733</td>\n",
              "      <td>0.68</td>\n",
              "    </tr>\n",
              "    <tr>\n",
              "      <th>1987-01-01 02:00:00</th>\n",
              "      <td>1636</td>\n",
              "      <td>0.68</td>\n",
              "    </tr>\n",
              "    <tr>\n",
              "      <th>1987-01-01 03:00:00</th>\n",
              "      <td>1564</td>\n",
              "      <td>0.68</td>\n",
              "    </tr>\n",
              "    <tr>\n",
              "      <th>1987-01-01 04:00:00</th>\n",
              "      <td>1526</td>\n",
              "      <td>0.68</td>\n",
              "    </tr>\n",
              "    <tr>\n",
              "      <th>1987-01-01 05:00:00</th>\n",
              "      <td>1515</td>\n",
              "      <td>0.68</td>\n",
              "    </tr>\n",
              "    <tr>\n",
              "      <th>...</th>\n",
              "      <td>...</td>\n",
              "      <td>...</td>\n",
              "    </tr>\n",
              "    <tr>\n",
              "      <th>1990-01-31 20:00:00</th>\n",
              "      <td>3361</td>\n",
              "      <td>3.88</td>\n",
              "    </tr>\n",
              "    <tr>\n",
              "      <th>1990-01-31 21:00:00</th>\n",
              "      <td>3205</td>\n",
              "      <td>3.88</td>\n",
              "    </tr>\n",
              "    <tr>\n",
              "      <th>1990-01-31 22:00:00</th>\n",
              "      <td>2940</td>\n",
              "      <td>3.88</td>\n",
              "    </tr>\n",
              "    <tr>\n",
              "      <th>1990-01-31 23:00:00</th>\n",
              "      <td>2593</td>\n",
              "      <td>3.88</td>\n",
              "    </tr>\n",
              "    <tr>\n",
              "      <th>1990-01-31 00:00:00</th>\n",
              "      <td>2277</td>\n",
              "      <td>3.88</td>\n",
              "    </tr>\n",
              "  </tbody>\n",
              "</table>\n",
              "<p>27048 rows × 2 columns</p>\n",
              "</div>\n",
              "      <button class=\"colab-df-convert\" onclick=\"convertToInteractive('df-8836acb3-2de3-4287-9123-26f4b10c0dcd')\"\n",
              "              title=\"Convert this dataframe to an interactive table.\"\n",
              "              style=\"display:none;\">\n",
              "        \n",
              "  <svg xmlns=\"http://www.w3.org/2000/svg\" height=\"24px\"viewBox=\"0 0 24 24\"\n",
              "       width=\"24px\">\n",
              "    <path d=\"M0 0h24v24H0V0z\" fill=\"none\"/>\n",
              "    <path d=\"M18.56 5.44l.94 2.06.94-2.06 2.06-.94-2.06-.94-.94-2.06-.94 2.06-2.06.94zm-11 1L8.5 8.5l.94-2.06 2.06-.94-2.06-.94L8.5 2.5l-.94 2.06-2.06.94zm10 10l.94 2.06.94-2.06 2.06-.94-2.06-.94-.94-2.06-.94 2.06-2.06.94z\"/><path d=\"M17.41 7.96l-1.37-1.37c-.4-.4-.92-.59-1.43-.59-.52 0-1.04.2-1.43.59L10.3 9.45l-7.72 7.72c-.78.78-.78 2.05 0 2.83L4 21.41c.39.39.9.59 1.41.59.51 0 1.02-.2 1.41-.59l7.78-7.78 2.81-2.81c.8-.78.8-2.07 0-2.86zM5.41 20L4 18.59l7.72-7.72 1.47 1.35L5.41 20z\"/>\n",
              "  </svg>\n",
              "      </button>\n",
              "      \n",
              "  <style>\n",
              "    .colab-df-container {\n",
              "      display:flex;\n",
              "      flex-wrap:wrap;\n",
              "      gap: 12px;\n",
              "    }\n",
              "\n",
              "    .colab-df-convert {\n",
              "      background-color: #E8F0FE;\n",
              "      border: none;\n",
              "      border-radius: 50%;\n",
              "      cursor: pointer;\n",
              "      display: none;\n",
              "      fill: #1967D2;\n",
              "      height: 32px;\n",
              "      padding: 0 0 0 0;\n",
              "      width: 32px;\n",
              "    }\n",
              "\n",
              "    .colab-df-convert:hover {\n",
              "      background-color: #E2EBFA;\n",
              "      box-shadow: 0px 1px 2px rgba(60, 64, 67, 0.3), 0px 1px 3px 1px rgba(60, 64, 67, 0.15);\n",
              "      fill: #174EA6;\n",
              "    }\n",
              "\n",
              "    [theme=dark] .colab-df-convert {\n",
              "      background-color: #3B4455;\n",
              "      fill: #D2E3FC;\n",
              "    }\n",
              "\n",
              "    [theme=dark] .colab-df-convert:hover {\n",
              "      background-color: #434B5C;\n",
              "      box-shadow: 0px 1px 3px 1px rgba(0, 0, 0, 0.15);\n",
              "      filter: drop-shadow(0px 1px 2px rgba(0, 0, 0, 0.3));\n",
              "      fill: #FFFFFF;\n",
              "    }\n",
              "  </style>\n",
              "\n",
              "      <script>\n",
              "        const buttonEl =\n",
              "          document.querySelector('#df-8836acb3-2de3-4287-9123-26f4b10c0dcd button.colab-df-convert');\n",
              "        buttonEl.style.display =\n",
              "          google.colab.kernel.accessAllowed ? 'block' : 'none';\n",
              "\n",
              "        async function convertToInteractive(key) {\n",
              "          const element = document.querySelector('#df-8836acb3-2de3-4287-9123-26f4b10c0dcd');\n",
              "          const dataTable =\n",
              "            await google.colab.kernel.invokeFunction('convertToInteractive',\n",
              "                                                     [key], {});\n",
              "          if (!dataTable) return;\n",
              "\n",
              "          const docLinkHtml = 'Like what you see? Visit the ' +\n",
              "            '<a target=\"_blank\" href=https://colab.research.google.com/notebooks/data_table.ipynb>data table notebook</a>'\n",
              "            + ' to learn more about interactive tables.';\n",
              "          element.innerHTML = '';\n",
              "          dataTable['output_type'] = 'display_data';\n",
              "          await google.colab.output.renderOutput(dataTable, element);\n",
              "          const docLink = document.createElement('div');\n",
              "          docLink.innerHTML = docLinkHtml;\n",
              "          element.appendChild(docLink);\n",
              "        }\n",
              "      </script>\n",
              "    </div>\n",
              "  </div>\n",
              "  "
            ],
            "text/plain": [
              "                     Load  All_Sky_Insolation_Incident\n",
              "DateTime                                              \n",
              "1987-01-01 01:00:00  1733                         0.68\n",
              "1987-01-01 02:00:00  1636                         0.68\n",
              "1987-01-01 03:00:00  1564                         0.68\n",
              "1987-01-01 04:00:00  1526                         0.68\n",
              "1987-01-01 05:00:00  1515                         0.68\n",
              "...                   ...                          ...\n",
              "1990-01-31 20:00:00  3361                         3.88\n",
              "1990-01-31 21:00:00  3205                         3.88\n",
              "1990-01-31 22:00:00  2940                         3.88\n",
              "1990-01-31 23:00:00  2593                         3.88\n",
              "1990-01-31 00:00:00  2277                         3.88\n",
              "\n",
              "[27048 rows x 2 columns]"
            ]
          },
          "execution_count": 3,
          "metadata": {},
          "output_type": "execute_result"
        }
      ],
      "source": [
        "df=pd.merge(dataset,h_data,on='DateTime')\n",
        "df"
      ],
      "id": "7cadca36"
    },
    {
      "cell_type": "code",
      "execution_count": null,
      "metadata": {
        "colab": {
          "base_uri": "https://localhost:8080/"
        },
        "id": "207340e7",
        "outputId": "8d1b9b03-d3cf-4386-dd8c-45c80356e4de"
      },
      "outputs": [
        {
          "name": "stdout",
          "output_type": "stream",
          "text": [
            "16228 10820\n",
            "5410 5410\n"
          ]
        }
      ],
      "source": [
        "import numpy as np\n",
        "\n",
        "train_size = int(len(df) * 0.6)\n",
        "test_size = len(df) - train_size\n",
        "train, test = df.iloc[0:train_size], df.iloc[train_size:len(df)]\n",
        "print(len(train), len(test))\n",
        "\n",
        "test_size = int(len(test) * 0.5)\n",
        "val_size = len(test) - test_size\n",
        "val, test = test.iloc[0:test_size], test.iloc[test_size:len(test)]\n",
        "print(len(test), len(val))"
      ],
      "id": "207340e7"
    },
    {
      "cell_type": "code",
      "execution_count": null,
      "metadata": {
        "colab": {
          "base_uri": "https://localhost:8080/"
        },
        "id": "27fc9bdb",
        "outputId": "e85aad1c-1234-4e8b-8eb0-10f66f54cffe"
      },
      "outputs": [
        {
          "data": {
            "text/plain": [
              "(                     Load  All_Sky_Insolation_Incident\n",
              " DateTime                                              \n",
              " 1987-01-01 01:00:00  1733                         0.68\n",
              " 1987-01-01 02:00:00  1636                         0.68\n",
              " 1987-01-01 03:00:00  1564                         0.68\n",
              " 1987-01-01 04:00:00  1526                         0.68\n",
              " 1987-01-01 05:00:00  1515                         0.68\n",
              " ...                   ...                          ...\n",
              " 1988-11-06 00:00:00  1707                         3.13\n",
              " 1988-11-07 01:00:00  1552                         1.79\n",
              " 1988-11-07 02:00:00  1514                         1.79\n",
              " 1988-11-07 03:00:00  1499                         1.79\n",
              " 1988-11-07 04:00:00  1531                         1.79\n",
              " \n",
              " [16228 rows x 2 columns],\n",
              "                      Load  All_Sky_Insolation_Incident\n",
              " DateTime                                              \n",
              " 1988-11-07 05:00:00  1620                         1.79\n",
              " 1988-11-07 06:00:00  1947                         1.79\n",
              " 1988-11-07 07:00:00  2501                         1.79\n",
              " 1988-11-07 08:00:00  2793                         1.79\n",
              " 1988-11-07 09:00:00  2747                         1.79\n",
              " ...                   ...                          ...\n",
              " 1989-06-20 10:00:00  2164                         3.10\n",
              " 1989-06-20 11:00:00  2147                         3.10\n",
              " 1989-06-20 12:00:00  2102                         3.10\n",
              " 1989-06-20 13:00:00  2067                         3.10\n",
              " 1989-06-20 14:00:00  2011                         3.10\n",
              " \n",
              " [5410 rows x 2 columns],\n",
              "                      Load  All_Sky_Insolation_Incident\n",
              " DateTime                                              \n",
              " 1989-06-20 15:00:00  1974                         3.10\n",
              " 1989-06-20 16:00:00  1958                         3.10\n",
              " 1989-06-20 17:00:00  1974                         3.10\n",
              " 1989-06-20 18:00:00  2023                         3.10\n",
              " 1989-06-20 19:00:00  2012                         3.10\n",
              " ...                   ...                          ...\n",
              " 1990-01-31 20:00:00  3361                         3.88\n",
              " 1990-01-31 21:00:00  3205                         3.88\n",
              " 1990-01-31 22:00:00  2940                         3.88\n",
              " 1990-01-31 23:00:00  2593                         3.88\n",
              " 1990-01-31 00:00:00  2277                         3.88\n",
              " \n",
              " [5410 rows x 2 columns])"
            ]
          },
          "execution_count": 5,
          "metadata": {},
          "output_type": "execute_result"
        }
      ],
      "source": [
        "train,val,test"
      ],
      "id": "27fc9bdb"
    },
    {
      "cell_type": "code",
      "execution_count": null,
      "metadata": {
        "colab": {
          "base_uri": "https://localhost:8080/"
        },
        "id": "52bfb44a",
        "outputId": "996a5f8a-b61b-46a8-c557-fef80dfe59d8"
      },
      "outputs": [
        {
          "name": "stderr",
          "output_type": "stream",
          "text": [
            "/usr/local/lib/python3.7/dist-packages/pandas/core/indexing.py:1734: SettingWithCopyWarning: \n",
            "A value is trying to be set on a copy of a slice from a DataFrame.\n",
            "Try using .loc[row_indexer,col_indexer] = value instead\n",
            "\n",
            "See the caveats in the documentation: https://pandas.pydata.org/pandas-docs/stable/user_guide/indexing.html#returning-a-view-versus-a-copy\n",
            "  isetter(loc, value[:, i].tolist())\n",
            "/usr/local/lib/python3.7/dist-packages/ipykernel_launcher.py:12: SettingWithCopyWarning: \n",
            "A value is trying to be set on a copy of a slice from a DataFrame.\n",
            "Try using .loc[row_indexer,col_indexer] = value instead\n",
            "\n",
            "See the caveats in the documentation: https://pandas.pydata.org/pandas-docs/stable/user_guide/indexing.html#returning-a-view-versus-a-copy\n",
            "  if sys.path[0] == '':\n"
          ]
        }
      ],
      "source": [
        "from sklearn.preprocessing import MinMaxScaler\n",
        "\n",
        "f_columns = ['All_Sky_Insolation_Incident']\n",
        "\n",
        "f_transformer = MinMaxScaler()\n",
        "t_transformer = MinMaxScaler()\n",
        "\n",
        "f_transformer = f_transformer.fit(train[f_columns].to_numpy())\n",
        "t_transformer = t_transformer.fit(train[['Load']])\n",
        "\n",
        "train.loc[:, f_columns] = f_transformer.transform(train[f_columns].to_numpy())\n",
        "train['Load'] = t_transformer.transform(train[['Load']])\n",
        "\n",
        "val.loc[:, f_columns] = f_transformer.transform(val[f_columns].to_numpy())\n",
        "val['Load'] = t_transformer.transform(val[['Load']])\n",
        "\n",
        "\n",
        "test.loc[:, f_columns] = f_transformer.transform(test[f_columns].to_numpy())\n",
        "test['Load'] = t_transformer.transform(test[['Load']])"
      ],
      "id": "52bfb44a"
    },
    {
      "cell_type": "code",
      "execution_count": null,
      "metadata": {
        "id": "8f59d702"
      },
      "outputs": [],
      "source": [
        "def create_dataset(X, y, time_steps=1):\n",
        "    Xs, ys = [], []\n",
        "    for i in range(len(X) - time_steps):\n",
        "        v = X.iloc[i:(i + time_steps)].values\n",
        "        Xs.append(v)        \n",
        "        ys.append(y.iloc[i + time_steps])\n",
        "    return np.array(Xs), np.array(ys)\n",
        "\n"
      ],
      "id": "8f59d702"
    },
    {
      "cell_type": "code",
      "execution_count": null,
      "metadata": {
        "colab": {
          "base_uri": "https://localhost:8080/"
        },
        "id": "4a1f7442",
        "outputId": "c063fa84-20a6-4220-981f-dcecf838f6cb"
      },
      "outputs": [
        {
          "name": "stdout",
          "output_type": "stream",
          "text": [
            "(16204, 24, 2) (16204,) (5386, 24, 2) (5386,) (5386, 24, 2) (5386,)\n"
          ]
        }
      ],
      "source": [
        "import numpy as np\n",
        "\n",
        "time_steps = 24\n",
        "\n",
        "# reshape to [samples, time_steps, n_features]\n",
        "\n",
        "X_train, y_train = create_dataset(train, train.Load, time_steps)\n",
        "\n",
        "X_validate, y_validate = create_dataset(val, val.Load, time_steps)\n",
        "\n",
        "X_test, y_test = create_dataset(test, test.Load, time_steps)\n",
        "\n",
        "\n",
        "print(X_train.shape, y_train.shape,X_validate.shape, y_validate.shape,X_test.shape, y_test.shape)"
      ],
      "id": "4a1f7442"
    },
    {
      "cell_type": "code",
      "execution_count": null,
      "metadata": {
        "colab": {
          "base_uri": "https://localhost:8080/"
        },
        "id": "n_LiVxrI2rI5",
        "outputId": "3b9e2a66-1510-4fe9-ece2-ea55e93f77af"
      },
      "outputs": [
        {
          "name": "stdout",
          "output_type": "stream",
          "text": [
            "Collecting keras_tuner\n",
            "  Downloading keras_tuner-1.1.0-py3-none-any.whl (98 kB)\n",
            "\u001b[K     |████████████████████████████████| 98 kB 1.7 MB/s \n",
            "\u001b[?25hRequirement already satisfied: requests in /usr/local/lib/python3.7/dist-packages (from keras_tuner) (2.23.0)\n",
            "Requirement already satisfied: packaging in /usr/local/lib/python3.7/dist-packages (from keras_tuner) (21.3)\n",
            "Requirement already satisfied: ipython in /usr/local/lib/python3.7/dist-packages (from keras_tuner) (5.5.0)\n",
            "Requirement already satisfied: tensorboard in /usr/local/lib/python3.7/dist-packages (from keras_tuner) (2.7.0)\n",
            "Collecting kt-legacy\n",
            "  Downloading kt_legacy-1.0.4-py3-none-any.whl (9.6 kB)\n",
            "Requirement already satisfied: scipy in /usr/local/lib/python3.7/dist-packages (from keras_tuner) (1.4.1)\n",
            "Requirement already satisfied: numpy in /usr/local/lib/python3.7/dist-packages (from keras_tuner) (1.19.5)\n",
            "Requirement already satisfied: prompt-toolkit<2.0.0,>=1.0.4 in /usr/local/lib/python3.7/dist-packages (from ipython->keras_tuner) (1.0.18)\n",
            "Requirement already satisfied: pygments in /usr/local/lib/python3.7/dist-packages (from ipython->keras_tuner) (2.6.1)\n",
            "Requirement already satisfied: decorator in /usr/local/lib/python3.7/dist-packages (from ipython->keras_tuner) (4.4.2)\n",
            "Requirement already satisfied: traitlets>=4.2 in /usr/local/lib/python3.7/dist-packages (from ipython->keras_tuner) (5.1.1)\n",
            "Requirement already satisfied: simplegeneric>0.8 in /usr/local/lib/python3.7/dist-packages (from ipython->keras_tuner) (0.8.1)\n",
            "Requirement already satisfied: setuptools>=18.5 in /usr/local/lib/python3.7/dist-packages (from ipython->keras_tuner) (57.4.0)\n",
            "Requirement already satisfied: pexpect in /usr/local/lib/python3.7/dist-packages (from ipython->keras_tuner) (4.8.0)\n",
            "Requirement already satisfied: pickleshare in /usr/local/lib/python3.7/dist-packages (from ipython->keras_tuner) (0.7.5)\n",
            "Requirement already satisfied: wcwidth in /usr/local/lib/python3.7/dist-packages (from prompt-toolkit<2.0.0,>=1.0.4->ipython->keras_tuner) (0.2.5)\n",
            "Requirement already satisfied: six>=1.9.0 in /usr/local/lib/python3.7/dist-packages (from prompt-toolkit<2.0.0,>=1.0.4->ipython->keras_tuner) (1.15.0)\n",
            "Requirement already satisfied: pyparsing!=3.0.5,>=2.0.2 in /usr/local/lib/python3.7/dist-packages (from packaging->keras_tuner) (3.0.6)\n",
            "Requirement already satisfied: ptyprocess>=0.5 in /usr/local/lib/python3.7/dist-packages (from pexpect->ipython->keras_tuner) (0.7.0)\n",
            "Requirement already satisfied: idna<3,>=2.5 in /usr/local/lib/python3.7/dist-packages (from requests->keras_tuner) (2.10)\n",
            "Requirement already satisfied: chardet<4,>=3.0.2 in /usr/local/lib/python3.7/dist-packages (from requests->keras_tuner) (3.0.4)\n",
            "Requirement already satisfied: urllib3!=1.25.0,!=1.25.1,<1.26,>=1.21.1 in /usr/local/lib/python3.7/dist-packages (from requests->keras_tuner) (1.24.3)\n",
            "Requirement already satisfied: certifi>=2017.4.17 in /usr/local/lib/python3.7/dist-packages (from requests->keras_tuner) (2021.10.8)\n",
            "Requirement already satisfied: tensorboard-data-server<0.7.0,>=0.6.0 in /usr/local/lib/python3.7/dist-packages (from tensorboard->keras_tuner) (0.6.1)\n",
            "Requirement already satisfied: absl-py>=0.4 in /usr/local/lib/python3.7/dist-packages (from tensorboard->keras_tuner) (0.12.0)\n",
            "Requirement already satisfied: google-auth-oauthlib<0.5,>=0.4.1 in /usr/local/lib/python3.7/dist-packages (from tensorboard->keras_tuner) (0.4.6)\n",
            "Requirement already satisfied: grpcio>=1.24.3 in /usr/local/lib/python3.7/dist-packages (from tensorboard->keras_tuner) (1.42.0)\n",
            "Requirement already satisfied: werkzeug>=0.11.15 in /usr/local/lib/python3.7/dist-packages (from tensorboard->keras_tuner) (1.0.1)\n",
            "Requirement already satisfied: wheel>=0.26 in /usr/local/lib/python3.7/dist-packages (from tensorboard->keras_tuner) (0.37.0)\n",
            "Requirement already satisfied: markdown>=2.6.8 in /usr/local/lib/python3.7/dist-packages (from tensorboard->keras_tuner) (3.3.6)\n",
            "Requirement already satisfied: google-auth<3,>=1.6.3 in /usr/local/lib/python3.7/dist-packages (from tensorboard->keras_tuner) (1.35.0)\n",
            "Requirement already satisfied: protobuf>=3.6.0 in /usr/local/lib/python3.7/dist-packages (from tensorboard->keras_tuner) (3.17.3)\n",
            "Requirement already satisfied: tensorboard-plugin-wit>=1.6.0 in /usr/local/lib/python3.7/dist-packages (from tensorboard->keras_tuner) (1.8.0)\n",
            "Requirement already satisfied: cachetools<5.0,>=2.0.0 in /usr/local/lib/python3.7/dist-packages (from google-auth<3,>=1.6.3->tensorboard->keras_tuner) (4.2.4)\n",
            "Requirement already satisfied: rsa<5,>=3.1.4 in /usr/local/lib/python3.7/dist-packages (from google-auth<3,>=1.6.3->tensorboard->keras_tuner) (4.8)\n",
            "Requirement already satisfied: pyasn1-modules>=0.2.1 in /usr/local/lib/python3.7/dist-packages (from google-auth<3,>=1.6.3->tensorboard->keras_tuner) (0.2.8)\n",
            "Requirement already satisfied: requests-oauthlib>=0.7.0 in /usr/local/lib/python3.7/dist-packages (from google-auth-oauthlib<0.5,>=0.4.1->tensorboard->keras_tuner) (1.3.0)\n",
            "Requirement already satisfied: importlib-metadata>=4.4 in /usr/local/lib/python3.7/dist-packages (from markdown>=2.6.8->tensorboard->keras_tuner) (4.8.2)\n",
            "Requirement already satisfied: typing-extensions>=3.6.4 in /usr/local/lib/python3.7/dist-packages (from importlib-metadata>=4.4->markdown>=2.6.8->tensorboard->keras_tuner) (3.10.0.2)\n",
            "Requirement already satisfied: zipp>=0.5 in /usr/local/lib/python3.7/dist-packages (from importlib-metadata>=4.4->markdown>=2.6.8->tensorboard->keras_tuner) (3.6.0)\n",
            "Requirement already satisfied: pyasn1<0.5.0,>=0.4.6 in /usr/local/lib/python3.7/dist-packages (from pyasn1-modules>=0.2.1->google-auth<3,>=1.6.3->tensorboard->keras_tuner) (0.4.8)\n",
            "Requirement already satisfied: oauthlib>=3.0.0 in /usr/local/lib/python3.7/dist-packages (from requests-oauthlib>=0.7.0->google-auth-oauthlib<0.5,>=0.4.1->tensorboard->keras_tuner) (3.1.1)\n",
            "Installing collected packages: kt-legacy, keras-tuner\n",
            "Successfully installed keras-tuner-1.1.0 kt-legacy-1.0.4\n"
          ]
        }
      ],
      "source": [
        "!pip install keras_tuner"
      ],
      "id": "n_LiVxrI2rI5"
    },
    {
      "cell_type": "code",
      "execution_count": null,
      "metadata": {
        "id": "ea458a8c"
      },
      "outputs": [],
      "source": [
        "import pandas as pd\n",
        "import math\n",
        "import keras\n",
        "import numpy as np\n",
        "from sklearn.preprocessing import MinMaxScaler\n",
        "from tensorflow.keras.models import save_model\n",
        "from tensorflow.keras.models import model_from_json\n",
        "from tensorflow.keras.models import Sequential\n",
        "from tensorflow.keras.layers import Dense\n",
        "from tensorflow.keras.layers import LSTM\n",
        "from tensorflow.keras.layers import Dropout\n",
        "import keras_tuner\n",
        "#from kerastuner.tuners import RandomSearch\n",
        "#from kerastuner.engine.hyperparameters import HyperParameters\n",
        "from pickle import dump,load\n",
        "from keras_tuner import RandomSearch\n",
        "from keras_tuner import HyperModel\n",
        "from keras_tuner import HyperParameters\n",
        "import warnings\n",
        "warnings.simplefilter(\"ignore\", UserWarning)\n",
        "from tensorflow.keras import layers\n"
      ],
      "id": "ea458a8c"
    },
    {
      "cell_type": "code",
      "execution_count": null,
      "metadata": {
        "id": "2bc7cbba"
      },
      "outputs": [],
      "source": [
        "from tensorflow.keras.callbacks import EarlyStopping\n",
        "custom_early_stopping = EarlyStopping(\n",
        "    monitor='val_loss', \n",
        "    patience=5, \n",
        "    min_delta=0.001, \n",
        "    mode='auto'\n",
        ")"
      ],
      "id": "2bc7cbba"
    },
    {
      "cell_type": "code",
      "execution_count": null,
      "metadata": {
        "id": "Hv7GkIgDnzHY"
      },
      "outputs": [],
      "source": [
        "import tensorflow as tf\n",
        "def build_model(hp):\n",
        "    model = keras.Sequential()\n",
        "    tf.keras.Input(shape=(X_train.shape[1], X_train.shape[2]))\n",
        "    for i in range(hp.Int('num_layers', 0, 10)):\n",
        "        \n",
        "        model.add(layers.LSTM(units=hp.Int('units_' + str(i),\n",
        "                                            min_value=32,\n",
        "                                            max_value=612,\n",
        "                                            step=32)\n",
        "                             , return_sequences=True\n",
        "                              ))\n",
        "    model.add(layers.LSTM(units=hp.Int('Last_units' ,\n",
        "                                            min_value=32,\n",
        "                                            max_value=612,\n",
        "                                            step=32) ))\n",
        "   \n",
        "    \n",
        "    if hp.Boolean(\"dropout\"):\n",
        "       model.add(layers.Dropout(rate=0.25)) \n",
        "\n",
        "    model.add(layers.Dense(1))\n",
        "    model.compile(\n",
        "        optimizer=tf.keras.optimizers.Adam(\n",
        "            #hp.Choice('learning_rate', [1e-2, 1e-3, 1e-4])\n",
        "        ),\n",
        "        loss='mean_squared_error',\n",
        "        metrics=['mse'])\n",
        "    return model"
      ],
      "id": "Hv7GkIgDnzHY"
    },
    {
      "cell_type": "code",
      "execution_count": null,
      "metadata": {
        "id": "8dc850a9"
      },
      "outputs": [],
      "source": [
        "tuner = RandomSearch(\n",
        "    build_model,\n",
        "    objective='val_mse',\n",
        "    max_trials=5,\n",
        "    executions_per_trial=1,\n",
        "    overwrite=True\n",
        ")"
      ],
      "id": "8dc850a9"
    },
    {
      "cell_type": "code",
      "execution_count": null,
      "metadata": {
        "colab": {
          "base_uri": "https://localhost:8080/"
        },
        "id": "8dc7c804",
        "outputId": "1af6f1ab-dd57-4343-f2ea-c11b2b830325"
      },
      "outputs": [
        {
          "name": "stdout",
          "output_type": "stream",
          "text": [
            "Search space summary\n",
            "Default search space size: 3\n",
            "num_layers (Int)\n",
            "{'default': None, 'conditions': [], 'min_value': 0, 'max_value': 10, 'step': 1, 'sampling': None}\n",
            "Last_units (Int)\n",
            "{'default': None, 'conditions': [], 'min_value': 32, 'max_value': 612, 'step': 32, 'sampling': None}\n",
            "dropout (Boolean)\n",
            "{'default': False, 'conditions': []}\n"
          ]
        }
      ],
      "source": [
        "tuner.search_space_summary()"
      ],
      "id": "8dc7c804"
    },
    {
      "cell_type": "code",
      "execution_count": 15,
      "metadata": {
        "colab": {
          "base_uri": "https://localhost:8080/"
        },
        "id": "c38a41f6",
        "outputId": "82a2bc08-0dd7-48d7-b397-5a2aa9753de5"
      },
      "outputs": [
        {
          "output_type": "stream",
          "name": "stdout",
          "text": [
            "Trial 5 Complete [01h 14m 26s]\n",
            "val_mse: 0.003316442249342799\n",
            "\n",
            "Best val_mse So Far: 0.00042395852506160736\n",
            "Total elapsed time: 07h 27m 29s\n",
            "INFO:tensorflow:Oracle triggered exit\n"
          ]
        }
      ],
      "source": [
        "tuner.search(\n",
        "        x=X_train,\n",
        "        y= y_train,\n",
        "        epochs=200,\n",
        "        batch_size=32,\n",
        "        validation_data=(X_validate, y_validate),\n",
        "        callbacks=[custom_early_stopping]\n",
        ")"
      ],
      "id": "c38a41f6"
    },
    {
      "cell_type": "code",
      "execution_count": null,
      "metadata": {
        "id": "IoR_iYdAv-Rc"
      },
      "outputs": [],
      "source": [
        ""
      ],
      "id": "IoR_iYdAv-Rc"
    },
    {
      "cell_type": "code",
      "execution_count": 16,
      "metadata": {
        "colab": {
          "base_uri": "https://localhost:8080/"
        },
        "id": "8007c390",
        "outputId": "34f719b3-7299-446b-bdc4-16eda27bf800"
      },
      "outputs": [
        {
          "output_type": "stream",
          "name": "stdout",
          "text": [
            "Results summary\n",
            "Results in ./untitled_project\n",
            "Showing 10 best trials\n",
            "Objective(name='val_mse', direction='min')\n",
            "Trial summary\n",
            "Hyperparameters:\n",
            "num_layers: 4\n",
            "Last_units: 352\n",
            "dropout: False\n",
            "units_0: 576\n",
            "units_1: 448\n",
            "units_2: 160\n",
            "units_3: 32\n",
            "Score: 0.00042395852506160736\n",
            "Trial summary\n",
            "Hyperparameters:\n",
            "num_layers: 3\n",
            "Last_units: 576\n",
            "dropout: True\n",
            "units_0: 512\n",
            "units_1: 192\n",
            "units_2: 576\n",
            "units_3: 384\n",
            "units_4: 192\n",
            "units_5: 608\n",
            "units_6: 320\n",
            "units_7: 448\n",
            "Score: 0.00046815170207992196\n",
            "Trial summary\n",
            "Hyperparameters:\n",
            "num_layers: 3\n",
            "Last_units: 544\n",
            "dropout: False\n",
            "units_0: 32\n",
            "units_1: 32\n",
            "units_2: 32\n",
            "Score: 0.0005564545281231403\n",
            "Trial summary\n",
            "Hyperparameters:\n",
            "num_layers: 8\n",
            "Last_units: 544\n",
            "dropout: True\n",
            "units_0: 512\n",
            "units_1: 480\n",
            "units_2: 256\n",
            "units_3: 64\n",
            "units_4: 32\n",
            "units_5: 32\n",
            "units_6: 32\n",
            "units_7: 32\n",
            "Score: 0.0033030963968485594\n",
            "Trial summary\n",
            "Hyperparameters:\n",
            "num_layers: 5\n",
            "Last_units: 192\n",
            "dropout: True\n",
            "units_0: 480\n",
            "units_1: 416\n",
            "units_2: 384\n",
            "units_3: 192\n",
            "units_4: 352\n",
            "units_5: 608\n",
            "units_6: 288\n",
            "units_7: 384\n",
            "Score: 0.003316442249342799\n"
          ]
        }
      ],
      "source": [
        "tuner.results_summary()"
      ],
      "id": "8007c390"
    },
    {
      "cell_type": "code",
      "execution_count": null,
      "metadata": {
        "colab": {
          "base_uri": "https://localhost:8080/"
        },
        "id": "7d364b3c",
        "outputId": "87a27d4e-1ba5-4b98-be77-b0e4d214980b"
      },
      "outputs": [
        {
          "name": "stdout",
          "output_type": "stream",
          "text": [
            "Epoch 1/10\n",
            "507/507 [==============================] - 778s 2s/step - loss: 2.6590e-04 - mse: 2.6590e-04 - val_loss: 1.5073e-04 - val_mse: 1.5073e-04\n",
            "Epoch 2/10\n",
            "507/507 [==============================] - 735s 1s/step - loss: 2.5331e-04 - mse: 2.5331e-04 - val_loss: 2.0870e-04 - val_mse: 2.0870e-04\n",
            "Epoch 3/10\n",
            "507/507 [==============================] - 801s 2s/step - loss: 2.5179e-04 - mse: 2.5179e-04 - val_loss: 1.8036e-04 - val_mse: 1.8036e-04\n",
            "Epoch 4/10\n",
            "507/507 [==============================] - 747s 1s/step - loss: 2.5128e-04 - mse: 2.5128e-04 - val_loss: 2.1230e-04 - val_mse: 2.1230e-04\n",
            "Epoch 5/10\n",
            "507/507 [==============================] - 763s 2s/step - loss: 2.3701e-04 - mse: 2.3701e-04 - val_loss: 2.0550e-04 - val_mse: 2.0550e-04\n",
            "Epoch 6/10\n",
            "507/507 [==============================] - 774s 2s/step - loss: 2.0294e-04 - mse: 2.0294e-04 - val_loss: 1.2808e-04 - val_mse: 1.2808e-04\n"
          ]
        }
      ],
      "source": [
        "model=tuner.get_best_models()[0]\n",
        "history=model.fit(X_train,y_train, epochs=10, validation_data=(X_test, y_test),\n",
        "                  callbacks=[custom_early_stopping])"
      ],
      "id": "7d364b3c"
    },
    {
      "cell_type": "code",
      "execution_count": null,
      "metadata": {
        "id": "CnjoetH8KKms"
      },
      "outputs": [],
      "source": [
        ""
      ],
      "id": "CnjoetH8KKms"
    },
    {
      "cell_type": "code",
      "execution_count": null,
      "metadata": {
        "colab": {
          "base_uri": "https://localhost:8080/"
        },
        "id": "S08rkkbRwaCp",
        "outputId": "a6703428-d387-4ea6-8b11-27843af6a27b"
      },
      "outputs": [
        {
          "name": "stdout",
          "output_type": "stream",
          "text": [
            "Model: \"sequential\"\n",
            "_________________________________________________________________\n",
            " Layer (type)                Output Shape              Param #   \n",
            "=================================================================\n",
            " lstm (LSTM)                 (None, 24, 512)           1054720   \n",
            "                                                                 \n",
            " lstm_1 (LSTM)               (None, 24, 448)           1722112   \n",
            "                                                                 \n",
            " lstm_2 (LSTM)               (None, 24, 544)           2160768   \n",
            "                                                                 \n",
            " lstm_3 (LSTM)               (None, 544)               2369664   \n",
            "                                                                 \n",
            " dense (Dense)               (None, 1)                 545       \n",
            "                                                                 \n",
            "=================================================================\n",
            "Total params: 7,307,809\n",
            "Trainable params: 7,307,809\n",
            "Non-trainable params: 0\n",
            "_________________________________________________________________\n"
          ]
        }
      ],
      "source": [
        "model.summary()\n"
      ],
      "id": "S08rkkbRwaCp"
    },
    {
      "cell_type": "code",
      "execution_count": null,
      "metadata": {
        "colab": {
          "base_uri": "https://localhost:8080/",
          "height": 330
        },
        "id": "sQFxomh1wYO6",
        "outputId": "573e7b39-e6dc-40f6-db49-bb76ab72aeaa"
      },
      "outputs": [
        {
          "name": "stdout",
          "output_type": "stream",
          "text": [
            "dict_keys(['loss', 'mse', 'val_loss', 'val_mse'])\n"
          ]
        },
        {
          "data": {
            "text/plain": [
              "<matplotlib.legend.Legend at 0x7fb5971f1710>"
            ]
          },
          "execution_count": 18,
          "metadata": {},
          "output_type": "execute_result"
        },
        {
          "data": {
            "image/png": "[encoded data removed]",
            "text/plain": [
              "<Figure size 432x288 with 1 Axes>"
            ]
          },
          "metadata": {},
          "output_type": "display_data"
        }
      ],
      "source": [
        "from matplotlib import pyplot\n",
        "import matplotlib.pyplot as plt\n",
        "\n",
        "# list all data in history\n",
        "print(history.history.keys())\n",
        "# summarize history for accuracy\n",
        "plt.plot(history.history['loss'])\n",
        "plt.plot(history.history['val_loss'])\n",
        "plt.title('model loss')\n",
        "plt.ylabel('loss')\n",
        "plt.xlabel('epoch')\n",
        "plt.legend(['train', 'val'], loc='upper left')\n"
      ],
      "id": "sQFxomh1wYO6"
    },
    {
      "cell_type": "code",
      "execution_count": null,
      "metadata": {
        "id": "t6Ma_LV-KMBL"
      },
      "outputs": [],
      "source": [
        ""
      ],
      "id": "t6Ma_LV-KMBL"
    },
    {
      "cell_type": "code",
      "execution_count": null,
      "metadata": {
        "id": "Ibl_EjDJxi6s"
      },
      "outputs": [],
      "source": [
        "y_pred = model.predict(X_test)"
      ],
      "id": "Ibl_EjDJxi6s"
    },
    {
      "cell_type": "code",
      "execution_count": null,
      "metadata": {
        "id": "UsANT7CTKPjv"
      },
      "outputs": [],
      "source": [
        ""
      ],
      "id": "UsANT7CTKPjv"
    },
    {
      "cell_type": "code",
      "execution_count": null,
      "metadata": {
        "id": "NwR2C38rxo-r"
      },
      "outputs": [],
      "source": [
        "from math import sqrt\n",
        "from sklearn.metrics import mean_squared_error\n",
        "\n",
        "\n",
        "###### ???????#####\n",
        "y_train_inv = t_transformer.inverse_transform(y_train.reshape(1, -1))\n",
        "y_test_inv = t_transformer.inverse_transform(y_test.reshape((len(y_test), 1)))\n",
        "y_pred_inv = t_transformer.inverse_transform(y_pred)"
      ],
      "id": "NwR2C38rxo-r"
    },
    {
      "cell_type": "code",
      "execution_count": null,
      "metadata": {
        "id": "-AksEVxpKPma"
      },
      "outputs": [],
      "source": [
        ""
      ],
      "id": "-AksEVxpKPma"
    },
    {
      "cell_type": "code",
      "execution_count": null,
      "metadata": {
        "colab": {
          "base_uri": "https://localhost:8080/"
        },
        "id": "i8JlBJ0hxr2b",
        "outputId": "73558ef8-7fda-4300-98dc-3370d98ce320"
      },
      "outputs": [
        {
          "name": "stdout",
          "output_type": "stream",
          "text": [
            "Test RMSE: 40.946\n"
          ]
        }
      ],
      "source": [
        "# calculate RMSE\n",
        "rmse = sqrt(mean_squared_error(y_test_inv, y_pred_inv))\n",
        "print('Test RMSE: %.3f' % rmse)\n"
      ],
      "id": "i8JlBJ0hxr2b"
    },
    {
      "cell_type": "code",
      "execution_count": null,
      "metadata": {
        "id": "1TmC85DoKPou"
      },
      "outputs": [],
      "source": [
        ""
      ],
      "id": "1TmC85DoKPou"
    },
    {
      "cell_type": "code",
      "execution_count": null,
      "metadata": {
        "colab": {
          "base_uri": "https://localhost:8080/"
        },
        "id": "BYYkww1WxvL9",
        "outputId": "19d1d595-df84-4c4b-ea40-828cf37735ea"
      },
      "outputs": [
        {
          "name": "stdout",
          "output_type": "stream",
          "text": [
            "0.0163522055483367\n"
          ]
        }
      ],
      "source": [
        "actual_test=y_test_inv\n",
        "Nrmse_test=rmse /(actual_test.max() - actual_test.min())\n",
        "\n",
        "print(Nrmse_test)"
      ],
      "id": "BYYkww1WxvL9"
    }
  ],
  "metadata": {
    "colab": {
      "collapsed_sections": [],
      "name": "(10layers)-AllSky.ipynb",
      "provenance": []
    },
    "kernelspec": {
      "display_name": "Python 3 (ipykernel)",
      "language": "python",
      "name": "python3"
    },
    "language_info": {
      "codemirror_mode": {
        "name": "ipython",
        "version": 3
      },
      "file_extension": ".py",
      "mimetype": "text/x-python",
      "name": "python",
      "nbconvert_exporter": "python",
      "pygments_lexer": "ipython3",
      "version": "3.8.11"
    }
  },
  "nbformat": 4,
  "nbformat_minor": 5
}