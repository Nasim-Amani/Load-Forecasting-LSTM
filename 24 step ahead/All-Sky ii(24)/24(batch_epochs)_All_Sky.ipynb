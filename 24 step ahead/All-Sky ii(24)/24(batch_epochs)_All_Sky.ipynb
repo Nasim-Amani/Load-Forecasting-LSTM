{
  "cells": [
    {
      "cell_type": "code",
      "source": [
        ""
      ],
      "metadata": {
        "id": "W7SIFVS3s9Gl"
      },
      "id": "W7SIFVS3s9Gl",
      "execution_count": null,
      "outputs": []
    },
    {
      "cell_type": "code",
      "execution_count": 1,
      "metadata": {
        "id": "7bf9189a"
      },
      "outputs": [],
      "source": [
        "import pandas as pd\n",
        "from datetime import datetime\n",
        "from pandas import DataFrame\n",
        "from pandas import read_csv\n",
        "#h=pd.read_csv(\"Clearness Index3.csv\" )\n",
        "\n",
        "#h1=h.drop([ 'insolation_clearness_index','temp','Min_temp','Claer_sky_ii','humidity','dew/frost_point','max_temp','wind_s','precipitation'], axis=1)\n",
        "#h1.to_csv('All_sky_ii.csv',  index = None)\n",
        "h1=pd.read_csv(\"All_sky_ii2.csv\" )\n",
        "\n",
        "number = 24\n",
        "elements = 1127\n",
        "\n",
        "thelist = [number] * elements\n",
        "h1['thelist'] = thelist\n",
        "\n",
        "Hour = ['01','02','03','04','05','06','07','08', '09','10','11','12','13','14','15','16','17','18','19','20','21','22','23','00']\n",
        "\n",
        "elements = 1127\n",
        "\n",
        "Hour = [Hour] * elements\n",
        "\n",
        "my_new_list = []\n",
        "for sub_list in Hour:\n",
        "    # Now go over each item of the sublist\n",
        "    for item in sub_list:\n",
        "        # append it to our new list\n",
        "        my_new_list.append(item)\n",
        "        \n",
        "        out =h1.reindex(h1.index.repeat(h1['thelist']))\n",
        "h1=out.drop(['thelist'], axis=1)\n",
        "\n",
        "h1['Hour'] = my_new_list\n",
        "h1[\"DateTime\"] = (h1[\"date\"] +\" \"+ h1[\"Hour\"])\n",
        "h_data=h1.drop(['date','Hour'],axis=1)\n",
        "\n",
        "\n",
        "h_data['DateTime'] = pd.to_datetime(h_data['DateTime'])\n",
        "\n",
        "h_data=h_data.set_index(h_data['DateTime'], drop=False, append=False, inplace=False, verify_integrity=False).drop('DateTime', 1)\n",
        "h_data.columns=['All_Sky_Insolation_Incident']\n",
        "\n",
        "#h_data"
      ],
      "id": "7bf9189a"
    },
    {
      "cell_type": "code",
      "execution_count": 2,
      "metadata": {
        "id": "dee65eab"
      },
      "outputs": [],
      "source": [
        "\n",
        "d = pd.read_csv(\"load3.csv\" )\n",
        "\n",
        "d.columns = ['date' ,'01','02','03','04','05','06','07','08', '09','10','11','12','13','14','15','16','17','18','19','20','21','22','23','00']\n",
        "d.to_csv('load3.csv',  index = None)\n",
        "\n",
        "from pandas import DataFrame\n",
        "\n",
        "# read first line\n",
        "with open(\"load3.csv\") as myfile:\n",
        "    headRow = next(myfile)\n",
        "\n",
        "# read column names    \n",
        "columns = [x.strip() for x in headRow.split(',')]\n",
        "\n",
        "# process by pandas\n",
        "data = pd.read_csv(\"load3.csv\", names=columns[1:], skiprows=1)\n",
        "\n",
        "stacked=data.stack()\n",
        "\n",
        "stacked = stacked.to_frame()\n",
        "stacked.columns=['Load']\n",
        "s=stacked.reset_index()\n",
        "s.columns=['Date','Hour','Load']\n",
        "s[\"DateTime\"] = (s[\"Date\"] +\" \"+ s[\"Hour\"])\n",
        "s = s[[\"DateTime\",\"Load\"]]\n",
        "from datetime import datetime\n",
        "\n",
        "s['DateTime'] = pd.to_datetime(s['DateTime'])\n",
        "dataset=s.set_index(s['DateTime'], drop=False, append=False, inplace=False, verify_integrity=False).drop('DateTime', 1)\n",
        "#dataset"
      ],
      "id": "dee65eab"
    },
    {
      "cell_type": "code",
      "execution_count": 3,
      "metadata": {
        "colab": {
          "base_uri": "https://localhost:8080/",
          "height": 455
        },
        "id": "03e6d3c7",
        "outputId": "c41f2d7b-0b53-42c5-e7fb-de4abd19ab64"
      },
      "outputs": [
        {
          "output_type": "execute_result",
          "data": {
            "text/html": [
              "\n",
              "  <div id=\"df-2cd643c9-1779-4ac5-a082-c9129a5d9eb6\">\n",
              "    <div class=\"colab-df-container\">\n",
              "      <div>\n",
              "<style scoped>\n",
              "    .dataframe tbody tr th:only-of-type {\n",
              "        vertical-align: middle;\n",
              "    }\n",
              "\n",
              "    .dataframe tbody tr th {\n",
              "        vertical-align: top;\n",
              "    }\n",
              "\n",
              "    .dataframe thead th {\n",
              "        text-align: right;\n",
              "    }\n",
              "</style>\n",
              "<table border=\"1\" class=\"dataframe\">\n",
              "  <thead>\n",
              "    <tr style=\"text-align: right;\">\n",
              "      <th></th>\n",
              "      <th>Load</th>\n",
              "      <th>All_Sky_Insolation_Incident</th>\n",
              "    </tr>\n",
              "    <tr>\n",
              "      <th>DateTime</th>\n",
              "      <th></th>\n",
              "      <th></th>\n",
              "    </tr>\n",
              "  </thead>\n",
              "  <tbody>\n",
              "    <tr>\n",
              "      <th>1987-01-01 01:00:00</th>\n",
              "      <td>1733</td>\n",
              "      <td>0.68</td>\n",
              "    </tr>\n",
              "    <tr>\n",
              "      <th>1987-01-01 02:00:00</th>\n",
              "      <td>1636</td>\n",
              "      <td>0.68</td>\n",
              "    </tr>\n",
              "    <tr>\n",
              "      <th>1987-01-01 03:00:00</th>\n",
              "      <td>1564</td>\n",
              "      <td>0.68</td>\n",
              "    </tr>\n",
              "    <tr>\n",
              "      <th>1987-01-01 04:00:00</th>\n",
              "      <td>1526</td>\n",
              "      <td>0.68</td>\n",
              "    </tr>\n",
              "    <tr>\n",
              "      <th>1987-01-01 05:00:00</th>\n",
              "      <td>1515</td>\n",
              "      <td>0.68</td>\n",
              "    </tr>\n",
              "    <tr>\n",
              "      <th>...</th>\n",
              "      <td>...</td>\n",
              "      <td>...</td>\n",
              "    </tr>\n",
              "    <tr>\n",
              "      <th>1990-01-31 20:00:00</th>\n",
              "      <td>3361</td>\n",
              "      <td>3.88</td>\n",
              "    </tr>\n",
              "    <tr>\n",
              "      <th>1990-01-31 21:00:00</th>\n",
              "      <td>3205</td>\n",
              "      <td>3.88</td>\n",
              "    </tr>\n",
              "    <tr>\n",
              "      <th>1990-01-31 22:00:00</th>\n",
              "      <td>2940</td>\n",
              "      <td>3.88</td>\n",
              "    </tr>\n",
              "    <tr>\n",
              "      <th>1990-01-31 23:00:00</th>\n",
              "      <td>2593</td>\n",
              "      <td>3.88</td>\n",
              "    </tr>\n",
              "    <tr>\n",
              "      <th>1990-01-31 00:00:00</th>\n",
              "      <td>2277</td>\n",
              "      <td>3.88</td>\n",
              "    </tr>\n",
              "  </tbody>\n",
              "</table>\n",
              "<p>27048 rows × 2 columns</p>\n",
              "</div>\n",
              "      <button class=\"colab-df-convert\" onclick=\"convertToInteractive('df-2cd643c9-1779-4ac5-a082-c9129a5d9eb6')\"\n",
              "              title=\"Convert this dataframe to an interactive table.\"\n",
              "              style=\"display:none;\">\n",
              "        \n",
              "  <svg xmlns=\"http://www.w3.org/2000/svg\" height=\"24px\"viewBox=\"0 0 24 24\"\n",
              "       width=\"24px\">\n",
              "    <path d=\"M0 0h24v24H0V0z\" fill=\"none\"/>\n",
              "    <path d=\"M18.56 5.44l.94 2.06.94-2.06 2.06-.94-2.06-.94-.94-2.06-.94 2.06-2.06.94zm-11 1L8.5 8.5l.94-2.06 2.06-.94-2.06-.94L8.5 2.5l-.94 2.06-2.06.94zm10 10l.94 2.06.94-2.06 2.06-.94-2.06-.94-.94-2.06-.94 2.06-2.06.94z\"/><path d=\"M17.41 7.96l-1.37-1.37c-.4-.4-.92-.59-1.43-.59-.52 0-1.04.2-1.43.59L10.3 9.45l-7.72 7.72c-.78.78-.78 2.05 0 2.83L4 21.41c.39.39.9.59 1.41.59.51 0 1.02-.2 1.41-.59l7.78-7.78 2.81-2.81c.8-.78.8-2.07 0-2.86zM5.41 20L4 18.59l7.72-7.72 1.47 1.35L5.41 20z\"/>\n",
              "  </svg>\n",
              "      </button>\n",
              "      \n",
              "  <style>\n",
              "    .colab-df-container {\n",
              "      display:flex;\n",
              "      flex-wrap:wrap;\n",
              "      gap: 12px;\n",
              "    }\n",
              "\n",
              "    .colab-df-convert {\n",
              "      background-color: #E8F0FE;\n",
              "      border: none;\n",
              "      border-radius: 50%;\n",
              "      cursor: pointer;\n",
              "      display: none;\n",
              "      fill: #1967D2;\n",
              "      height: 32px;\n",
              "      padding: 0 0 0 0;\n",
              "      width: 32px;\n",
              "    }\n",
              "\n",
              "    .colab-df-convert:hover {\n",
              "      background-color: #E2EBFA;\n",
              "      box-shadow: 0px 1px 2px rgba(60, 64, 67, 0.3), 0px 1px 3px 1px rgba(60, 64, 67, 0.15);\n",
              "      fill: #174EA6;\n",
              "    }\n",
              "\n",
              "    [theme=dark] .colab-df-convert {\n",
              "      background-color: #3B4455;\n",
              "      fill: #D2E3FC;\n",
              "    }\n",
              "\n",
              "    [theme=dark] .colab-df-convert:hover {\n",
              "      background-color: #434B5C;\n",
              "      box-shadow: 0px 1px 3px 1px rgba(0, 0, 0, 0.15);\n",
              "      filter: drop-shadow(0px 1px 2px rgba(0, 0, 0, 0.3));\n",
              "      fill: #FFFFFF;\n",
              "    }\n",
              "  </style>\n",
              "\n",
              "      <script>\n",
              "        const buttonEl =\n",
              "          document.querySelector('#df-2cd643c9-1779-4ac5-a082-c9129a5d9eb6 button.colab-df-convert');\n",
              "        buttonEl.style.display =\n",
              "          google.colab.kernel.accessAllowed ? 'block' : 'none';\n",
              "\n",
              "        async function convertToInteractive(key) {\n",
              "          const element = document.querySelector('#df-2cd643c9-1779-4ac5-a082-c9129a5d9eb6');\n",
              "          const dataTable =\n",
              "            await google.colab.kernel.invokeFunction('convertToInteractive',\n",
              "                                                     [key], {});\n",
              "          if (!dataTable) return;\n",
              "\n",
              "          const docLinkHtml = 'Like what you see? Visit the ' +\n",
              "            '<a target=\"_blank\" href=https://colab.research.google.com/notebooks/data_table.ipynb>data table notebook</a>'\n",
              "            + ' to learn more about interactive tables.';\n",
              "          element.innerHTML = '';\n",
              "          dataTable['output_type'] = 'display_data';\n",
              "          await google.colab.output.renderOutput(dataTable, element);\n",
              "          const docLink = document.createElement('div');\n",
              "          docLink.innerHTML = docLinkHtml;\n",
              "          element.appendChild(docLink);\n",
              "        }\n",
              "      </script>\n",
              "    </div>\n",
              "  </div>\n",
              "  "
            ],
            "text/plain": [
              "                     Load  All_Sky_Insolation_Incident\n",
              "DateTime                                              \n",
              "1987-01-01 01:00:00  1733                         0.68\n",
              "1987-01-01 02:00:00  1636                         0.68\n",
              "1987-01-01 03:00:00  1564                         0.68\n",
              "1987-01-01 04:00:00  1526                         0.68\n",
              "1987-01-01 05:00:00  1515                         0.68\n",
              "...                   ...                          ...\n",
              "1990-01-31 20:00:00  3361                         3.88\n",
              "1990-01-31 21:00:00  3205                         3.88\n",
              "1990-01-31 22:00:00  2940                         3.88\n",
              "1990-01-31 23:00:00  2593                         3.88\n",
              "1990-01-31 00:00:00  2277                         3.88\n",
              "\n",
              "[27048 rows x 2 columns]"
            ]
          },
          "metadata": {},
          "execution_count": 3
        }
      ],
      "source": [
        "df=pd.merge(dataset,h_data,on='DateTime')\n",
        "df"
      ],
      "id": "03e6d3c7"
    },
    {
      "cell_type": "code",
      "source": [
        "train_size = int(len(df) * 0.6)\n",
        "test_size = len(df) - train_size\n",
        "train, test = df.iloc[0:train_size], df.iloc[train_size:len(df)]\n",
        "print(len(train), len(test))\n",
        "\n",
        "test_size = int(len(test) * 0.5)\n",
        "val_size = len(test) - test_size\n",
        "val, test = test.iloc[0:test_size], test.iloc[test_size:len(test)]\n",
        "print(len(test), len(val))"
      ],
      "metadata": {
        "colab": {
          "base_uri": "https://localhost:8080/"
        },
        "id": "pBF9zgPJgiQl",
        "outputId": "90b9b7e3-23cf-4d5e-f0f1-8d162efcb98b"
      },
      "id": "pBF9zgPJgiQl",
      "execution_count": 4,
      "outputs": [
        {
          "output_type": "stream",
          "name": "stdout",
          "text": [
            "16228 10820\n",
            "5410 5410\n"
          ]
        }
      ]
    },
    {
      "cell_type": "code",
      "source": [
        "val,test"
      ],
      "metadata": {
        "colab": {
          "base_uri": "https://localhost:8080/"
        },
        "id": "Zbh5uVxUglFf",
        "outputId": "49967e3c-7ccc-4444-b185-a3a6cc667c33"
      },
      "id": "Zbh5uVxUglFf",
      "execution_count": 5,
      "outputs": [
        {
          "output_type": "execute_result",
          "data": {
            "text/plain": [
              "(                     Load  All_Sky_Insolation_Incident\n",
              " DateTime                                              \n",
              " 1988-11-07 05:00:00  1620                         1.79\n",
              " 1988-11-07 06:00:00  1947                         1.79\n",
              " 1988-11-07 07:00:00  2501                         1.79\n",
              " 1988-11-07 08:00:00  2793                         1.79\n",
              " 1988-11-07 09:00:00  2747                         1.79\n",
              " ...                   ...                          ...\n",
              " 1989-06-20 10:00:00  2164                         3.10\n",
              " 1989-06-20 11:00:00  2147                         3.10\n",
              " 1989-06-20 12:00:00  2102                         3.10\n",
              " 1989-06-20 13:00:00  2067                         3.10\n",
              " 1989-06-20 14:00:00  2011                         3.10\n",
              " \n",
              " [5410 rows x 2 columns],\n",
              "                      Load  All_Sky_Insolation_Incident\n",
              " DateTime                                              \n",
              " 1989-06-20 15:00:00  1974                         3.10\n",
              " 1989-06-20 16:00:00  1958                         3.10\n",
              " 1989-06-20 17:00:00  1974                         3.10\n",
              " 1989-06-20 18:00:00  2023                         3.10\n",
              " 1989-06-20 19:00:00  2012                         3.10\n",
              " ...                   ...                          ...\n",
              " 1990-01-31 20:00:00  3361                         3.88\n",
              " 1990-01-31 21:00:00  3205                         3.88\n",
              " 1990-01-31 22:00:00  2940                         3.88\n",
              " 1990-01-31 23:00:00  2593                         3.88\n",
              " 1990-01-31 00:00:00  2277                         3.88\n",
              " \n",
              " [5410 rows x 2 columns])"
            ]
          },
          "metadata": {},
          "execution_count": 5
        }
      ]
    },
    {
      "cell_type": "code",
      "execution_count": 6,
      "metadata": {
        "colab": {
          "base_uri": "https://localhost:8080/"
        },
        "id": "1361b755",
        "outputId": "3f433759-5973-45dd-e516-3cd5be0db199"
      },
      "outputs": [
        {
          "output_type": "stream",
          "name": "stderr",
          "text": [
            "/usr/local/lib/python3.7/dist-packages/pandas/core/indexing.py:1734: SettingWithCopyWarning: \n",
            "A value is trying to be set on a copy of a slice from a DataFrame.\n",
            "Try using .loc[row_indexer,col_indexer] = value instead\n",
            "\n",
            "See the caveats in the documentation: https://pandas.pydata.org/pandas-docs/stable/user_guide/indexing.html#returning-a-view-versus-a-copy\n",
            "  isetter(loc, value[:, i].tolist())\n",
            "/usr/local/lib/python3.7/dist-packages/ipykernel_launcher.py:12: SettingWithCopyWarning: \n",
            "A value is trying to be set on a copy of a slice from a DataFrame.\n",
            "Try using .loc[row_indexer,col_indexer] = value instead\n",
            "\n",
            "See the caveats in the documentation: https://pandas.pydata.org/pandas-docs/stable/user_guide/indexing.html#returning-a-view-versus-a-copy\n",
            "  if sys.path[0] == '':\n"
          ]
        }
      ],
      "source": [
        "from sklearn.preprocessing import MinMaxScaler\n",
        "\n",
        "f_columns = ['All_Sky_Insolation_Incident']\n",
        "\n",
        "f_transformer = MinMaxScaler()\n",
        "t_transformer = MinMaxScaler()\n",
        "\n",
        "f_transformer = f_transformer.fit(train[f_columns].to_numpy())\n",
        "t_transformer = t_transformer.fit(train[['Load']])\n",
        "\n",
        "train.loc[:, f_columns] = f_transformer.transform(train[f_columns].to_numpy())\n",
        "train['Load'] = t_transformer.transform(train[['Load']])\n",
        "\n",
        "val.loc[:, f_columns] = f_transformer.transform(val[f_columns].to_numpy())\n",
        "val['Load'] = t_transformer.transform(val[['Load']])\n",
        "\n",
        "\n",
        "test.loc[:, f_columns] = f_transformer.transform(test[f_columns].to_numpy())\n",
        "test['Load'] = t_transformer.transform(test[['Load']])"
      ],
      "id": "1361b755"
    },
    {
      "cell_type": "code",
      "execution_count": 7,
      "metadata": {
        "id": "09579f39"
      },
      "outputs": [],
      "source": [
        "from pandas import concat\n",
        " \n",
        "def series_to_supervised(data, n_in=1, n_out=1, dropnan=True):\n",
        "\t\"\"\"\n",
        "\tFrame a time series as a supervised learning dataset.\n",
        "\tArguments:\n",
        "\t\tdata: Sequence of observations as a list or NumPy array.\n",
        "\t\tn_in: Number of lag observations as input (X).\n",
        "\t\tn_out: Number of observations as output (y).\n",
        "\t\tdropnan: Boolean whether or not to drop rows with NaN values.\n",
        "\tReturns:\n",
        "\t\tPandas DataFrame of series framed for supervised learning.\n",
        "\t\"\"\"\n",
        "\tn_vars = 1 if type(data) is list else data.shape[1]\n",
        "\tdf = DataFrame(data)\n",
        "\tcols, names = list(), list()\n",
        "\t# input sequence (t-n, ... t-1)\n",
        "\tfor i in range(n_in, 0, -1):\n",
        "\t\tcols.append(df.shift(i))\n",
        "\t\tnames += [('var%d(t-%d)' % (j+1, i)) for j in range(n_vars)]\n",
        "\t# forecast sequence (t, t+1, ... t+n)\n",
        "\tfor i in range(0, n_out):\n",
        "\t\tcols.append(df.shift(-i))\n",
        "\t\tif i == 0:\n",
        "\t\t\tnames += [('var%d(t)' % (j+1)) for j in range(n_vars)]\n",
        "\t\telse:\n",
        "\t\t\tnames += [('var%d(t+%d)' % (j+1, i)) for j in range(n_vars)]\n",
        "\t# put it all together\n",
        "\tagg = concat(cols, axis=1)\n",
        "\tagg.columns = names\n",
        "\t# drop rows with NaN values\n",
        "\tif dropnan:\n",
        "\t\tagg.dropna(inplace=True)\n",
        "\treturn agg\n"
      ],
      "id": "09579f39"
    },
    {
      "cell_type": "code",
      "source": [
        "n_hours = 24\n",
        "n_features = 2\n",
        "# frame as supervised learning\n",
        "tarin_reframed = series_to_supervised(train, n_hours, 24)\n",
        "test_reframed = series_to_supervised(test, n_hours, 24)\n",
        "val_reframed = series_to_supervised(val, n_hours, 24)\n",
        "\n",
        "\n",
        "\n",
        "# split into train and test sets\n",
        "train_values = tarin_reframed.values\n",
        "test_values = test_reframed.values\n",
        "val_values = val_reframed.values\n",
        "\n",
        "#n_train_hours = 21614\n",
        "#train2 = values[:n_train_hours, :]\n",
        "#test2 = values[n_train_hours:, :]\n",
        "\n",
        "# split into input and outputs\n",
        "n_obs = n_hours * n_features\n",
        "\n",
        "train_X, train_y = train_values[:, :n_obs], train_values[:, -n_features]\n",
        "test_X, test_y = test_values[:, :n_obs], test_values[:, -n_features]\n",
        "val_X, val_y = val_values[:, :n_obs], val_values[:, -n_features]\n",
        "\n",
        "\n",
        "# reshape input to be 3D [samples, timesteps, features]\n",
        "train_X = train_X.reshape((train_X.shape[0], n_hours, n_features))\n",
        "test_X = test_X.reshape((test_X.shape[0], n_hours, n_features))\n",
        "val_X = val_X.reshape((val_X.shape[0], n_hours, n_features))\n",
        "\n",
        "print(train_X.shape, train_y.shape,val_X.shape,  val_y.shape,test_X.shape, test_y.shape)"
      ],
      "metadata": {
        "colab": {
          "base_uri": "https://localhost:8080/"
        },
        "id": "65Zg3VDOgpye",
        "outputId": "41bf1297-0cf0-4dff-e4c1-bff09ec2e540"
      },
      "id": "65Zg3VDOgpye",
      "execution_count": 8,
      "outputs": [
        {
          "output_type": "stream",
          "name": "stdout",
          "text": [
            "(16181, 24, 2) (16181,) (5363, 24, 2) (5363,) (5363, 24, 2) (5363,)\n"
          ]
        }
      ]
    },
    {
      "cell_type": "code",
      "source": [
        ""
      ],
      "metadata": {
        "id": "z15YL2SUgpwJ"
      },
      "id": "z15YL2SUgpwJ",
      "execution_count": null,
      "outputs": []
    },
    {
      "cell_type": "code",
      "execution_count": 9,
      "metadata": {
        "id": "48908c26"
      },
      "outputs": [],
      "source": [
        "import tensorflow as tf\n",
        "def build_model(hp):\n",
        "    model = keras.Sequential()\n",
        "    model.add(LSTM(4, input_shape=(train_X.shape[1], train_X.shape[2])))\n",
        "        \n",
        "    model.add(layers.Dense(1))\n",
        "    model.compile(\n",
        "        optimizer=tf.keras.optimizers.Adam( ),\n",
        "        loss='mean_squared_error',\n",
        "        metrics=['mse'])\n",
        "    return model\n"
      ],
      "id": "48908c26"
    },
    {
      "cell_type": "code",
      "execution_count": 10,
      "metadata": {
        "id": "a4520669"
      },
      "outputs": [],
      "source": [
        "from tensorflow.keras.callbacks import EarlyStopping\n",
        "\n",
        "custom_early_stopping = EarlyStopping(\n",
        "    monitor='val_loss', \n",
        "    patience=3, \n",
        "    min_delta=0.001, \n",
        "    mode='auto'\n",
        ")"
      ],
      "id": "a4520669"
    },
    {
      "cell_type": "code",
      "execution_count": 11,
      "metadata": {
        "colab": {
          "base_uri": "https://localhost:8080/"
        },
        "id": "EBiFOKUBFMiD",
        "outputId": "b34c9479-01f2-45ee-af87-8b241cc22314"
      },
      "outputs": [
        {
          "output_type": "stream",
          "name": "stdout",
          "text": [
            "Collecting keras_tuner\n",
            "  Downloading keras_tuner-1.1.0-py3-none-any.whl (98 kB)\n",
            "\u001b[?25l\r\u001b[K     |███▍                            | 10 kB 22.4 MB/s eta 0:00:01\r\u001b[K     |██████▊                         | 20 kB 21.0 MB/s eta 0:00:01\r\u001b[K     |██████████                      | 30 kB 10.4 MB/s eta 0:00:01\r\u001b[K     |█████████████▍                  | 40 kB 8.4 MB/s eta 0:00:01\r\u001b[K     |████████████████▊               | 51 kB 7.2 MB/s eta 0:00:01\r\u001b[K     |████████████████████            | 61 kB 7.0 MB/s eta 0:00:01\r\u001b[K     |███████████████████████▍        | 71 kB 6.7 MB/s eta 0:00:01\r\u001b[K     |██████████████████████████▊     | 81 kB 7.5 MB/s eta 0:00:01\r\u001b[K     |██████████████████████████████  | 92 kB 7.3 MB/s eta 0:00:01\r\u001b[K     |████████████████████████████████| 98 kB 4.6 MB/s \n",
            "\u001b[?25hRequirement already satisfied: requests in /usr/local/lib/python3.7/dist-packages (from keras_tuner) (2.23.0)\n",
            "Requirement already satisfied: scipy in /usr/local/lib/python3.7/dist-packages (from keras_tuner) (1.4.1)\n",
            "Collecting kt-legacy\n",
            "  Downloading kt_legacy-1.0.4-py3-none-any.whl (9.6 kB)\n",
            "Requirement already satisfied: tensorboard in /usr/local/lib/python3.7/dist-packages (from keras_tuner) (2.7.0)\n",
            "Requirement already satisfied: numpy in /usr/local/lib/python3.7/dist-packages (from keras_tuner) (1.19.5)\n",
            "Requirement already satisfied: packaging in /usr/local/lib/python3.7/dist-packages (from keras_tuner) (21.3)\n",
            "Requirement already satisfied: ipython in /usr/local/lib/python3.7/dist-packages (from keras_tuner) (5.5.0)\n",
            "Requirement already satisfied: setuptools>=18.5 in /usr/local/lib/python3.7/dist-packages (from ipython->keras_tuner) (57.4.0)\n",
            "Requirement already satisfied: prompt-toolkit<2.0.0,>=1.0.4 in /usr/local/lib/python3.7/dist-packages (from ipython->keras_tuner) (1.0.18)\n",
            "Requirement already satisfied: pygments in /usr/local/lib/python3.7/dist-packages (from ipython->keras_tuner) (2.6.1)\n",
            "Requirement already satisfied: decorator in /usr/local/lib/python3.7/dist-packages (from ipython->keras_tuner) (4.4.2)\n",
            "Requirement already satisfied: pickleshare in /usr/local/lib/python3.7/dist-packages (from ipython->keras_tuner) (0.7.5)\n",
            "Requirement already satisfied: traitlets>=4.2 in /usr/local/lib/python3.7/dist-packages (from ipython->keras_tuner) (5.1.1)\n",
            "Requirement already satisfied: pexpect in /usr/local/lib/python3.7/dist-packages (from ipython->keras_tuner) (4.8.0)\n",
            "Requirement already satisfied: simplegeneric>0.8 in /usr/local/lib/python3.7/dist-packages (from ipython->keras_tuner) (0.8.1)\n",
            "Requirement already satisfied: six>=1.9.0 in /usr/local/lib/python3.7/dist-packages (from prompt-toolkit<2.0.0,>=1.0.4->ipython->keras_tuner) (1.15.0)\n",
            "Requirement already satisfied: wcwidth in /usr/local/lib/python3.7/dist-packages (from prompt-toolkit<2.0.0,>=1.0.4->ipython->keras_tuner) (0.2.5)\n",
            "Requirement already satisfied: pyparsing!=3.0.5,>=2.0.2 in /usr/local/lib/python3.7/dist-packages (from packaging->keras_tuner) (3.0.6)\n",
            "Requirement already satisfied: ptyprocess>=0.5 in /usr/local/lib/python3.7/dist-packages (from pexpect->ipython->keras_tuner) (0.7.0)\n",
            "Requirement already satisfied: certifi>=2017.4.17 in /usr/local/lib/python3.7/dist-packages (from requests->keras_tuner) (2021.10.8)\n",
            "Requirement already satisfied: urllib3!=1.25.0,!=1.25.1,<1.26,>=1.21.1 in /usr/local/lib/python3.7/dist-packages (from requests->keras_tuner) (1.24.3)\n",
            "Requirement already satisfied: idna<3,>=2.5 in /usr/local/lib/python3.7/dist-packages (from requests->keras_tuner) (2.10)\n",
            "Requirement already satisfied: chardet<4,>=3.0.2 in /usr/local/lib/python3.7/dist-packages (from requests->keras_tuner) (3.0.4)\n",
            "Requirement already satisfied: grpcio>=1.24.3 in /usr/local/lib/python3.7/dist-packages (from tensorboard->keras_tuner) (1.43.0)\n",
            "Requirement already satisfied: google-auth<3,>=1.6.3 in /usr/local/lib/python3.7/dist-packages (from tensorboard->keras_tuner) (1.35.0)\n",
            "Requirement already satisfied: tensorboard-data-server<0.7.0,>=0.6.0 in /usr/local/lib/python3.7/dist-packages (from tensorboard->keras_tuner) (0.6.1)\n",
            "Requirement already satisfied: wheel>=0.26 in /usr/local/lib/python3.7/dist-packages (from tensorboard->keras_tuner) (0.37.1)\n",
            "Requirement already satisfied: google-auth-oauthlib<0.5,>=0.4.1 in /usr/local/lib/python3.7/dist-packages (from tensorboard->keras_tuner) (0.4.6)\n",
            "Requirement already satisfied: tensorboard-plugin-wit>=1.6.0 in /usr/local/lib/python3.7/dist-packages (from tensorboard->keras_tuner) (1.8.1)\n",
            "Requirement already satisfied: absl-py>=0.4 in /usr/local/lib/python3.7/dist-packages (from tensorboard->keras_tuner) (0.12.0)\n",
            "Requirement already satisfied: werkzeug>=0.11.15 in /usr/local/lib/python3.7/dist-packages (from tensorboard->keras_tuner) (1.0.1)\n",
            "Requirement already satisfied: protobuf>=3.6.0 in /usr/local/lib/python3.7/dist-packages (from tensorboard->keras_tuner) (3.17.3)\n",
            "Requirement already satisfied: markdown>=2.6.8 in /usr/local/lib/python3.7/dist-packages (from tensorboard->keras_tuner) (3.3.6)\n",
            "Requirement already satisfied: cachetools<5.0,>=2.0.0 in /usr/local/lib/python3.7/dist-packages (from google-auth<3,>=1.6.3->tensorboard->keras_tuner) (4.2.4)\n",
            "Requirement already satisfied: pyasn1-modules>=0.2.1 in /usr/local/lib/python3.7/dist-packages (from google-auth<3,>=1.6.3->tensorboard->keras_tuner) (0.2.8)\n",
            "Requirement already satisfied: rsa<5,>=3.1.4 in /usr/local/lib/python3.7/dist-packages (from google-auth<3,>=1.6.3->tensorboard->keras_tuner) (4.8)\n",
            "Requirement already satisfied: requests-oauthlib>=0.7.0 in /usr/local/lib/python3.7/dist-packages (from google-auth-oauthlib<0.5,>=0.4.1->tensorboard->keras_tuner) (1.3.0)\n",
            "Requirement already satisfied: importlib-metadata>=4.4 in /usr/local/lib/python3.7/dist-packages (from markdown>=2.6.8->tensorboard->keras_tuner) (4.10.0)\n",
            "Requirement already satisfied: typing-extensions>=3.6.4 in /usr/local/lib/python3.7/dist-packages (from importlib-metadata>=4.4->markdown>=2.6.8->tensorboard->keras_tuner) (3.10.0.2)\n",
            "Requirement already satisfied: zipp>=0.5 in /usr/local/lib/python3.7/dist-packages (from importlib-metadata>=4.4->markdown>=2.6.8->tensorboard->keras_tuner) (3.7.0)\n",
            "Requirement already satisfied: pyasn1<0.5.0,>=0.4.6 in /usr/local/lib/python3.7/dist-packages (from pyasn1-modules>=0.2.1->google-auth<3,>=1.6.3->tensorboard->keras_tuner) (0.4.8)\n",
            "Requirement already satisfied: oauthlib>=3.0.0 in /usr/local/lib/python3.7/dist-packages (from requests-oauthlib>=0.7.0->google-auth-oauthlib<0.5,>=0.4.1->tensorboard->keras_tuner) (3.1.1)\n",
            "Installing collected packages: kt-legacy, keras-tuner\n",
            "Successfully installed keras-tuner-1.1.0 kt-legacy-1.0.4\n"
          ]
        }
      ],
      "source": [
        "!pip install keras_tuner"
      ],
      "id": "EBiFOKUBFMiD"
    },
    {
      "cell_type": "code",
      "execution_count": 12,
      "metadata": {
        "id": "eG_EK-Y8FLj8"
      },
      "outputs": [],
      "source": [
        "import pandas as pd\n",
        "import math\n",
        "import keras\n",
        "import numpy as np\n",
        "from sklearn.preprocessing import MinMaxScaler\n",
        "from tensorflow.keras.models import save_model\n",
        "from tensorflow.keras.models import model_from_json\n",
        "from tensorflow.keras.models import Sequential\n",
        "from tensorflow.keras.layers import Dense\n",
        "from tensorflow.keras.layers import LSTM\n",
        "from tensorflow.keras.layers import Dropout\n",
        "import keras_tuner\n",
        "#from kerastuner.tuners import RandomSearch\n",
        "#from kerastuner.engine.hyperparameters import HyperParameters\n",
        "from pickle import dump,load\n",
        "from keras_tuner import RandomSearch\n",
        "from keras_tuner import HyperModel\n",
        "from keras_tuner import HyperParameters\n",
        "import warnings\n",
        "warnings.simplefilter(\"ignore\", UserWarning)\n",
        "from tensorflow.keras import layers"
      ],
      "id": "eG_EK-Y8FLj8"
    },
    {
      "cell_type": "code",
      "execution_count": 13,
      "metadata": {
        "id": "T4fVm9KFFAL-"
      },
      "outputs": [],
      "source": [
        "class RandomSearch(keras_tuner.tuners.BayesianOptimization):\n",
        "\n",
        "  def run_trial(self, trial, *args, **kwargs):\n",
        "    # You can add additional HyperParameters for preprocessing and custom training loops\n",
        "    # via overriding `run_trial`\n",
        "    kwargs['batch_size'] = trial.hyperparameters.Int('batch_size', 32, 256, step=32)\n",
        "    kwargs['epochs'] = trial.hyperparameters.Int('epochs', 50, 200)\n",
        "    return super(RandomSearch, self).run_trial(trial, *args, **kwargs)"
      ],
      "id": "T4fVm9KFFAL-"
    },
    {
      "cell_type": "code",
      "execution_count": 14,
      "metadata": {
        "id": "2e43bf92"
      },
      "outputs": [],
      "source": [
        "tuner = RandomSearch(\n",
        "    build_model,\n",
        "    objective='val_mse',\n",
        "    max_trials=10,\n",
        "    executions_per_trial=1,\n",
        "    overwrite=True\n",
        ")"
      ],
      "id": "2e43bf92"
    },
    {
      "cell_type": "code",
      "execution_count": 15,
      "metadata": {
        "colab": {
          "base_uri": "https://localhost:8080/"
        },
        "id": "6d553de9",
        "outputId": "c2b1afe9-5961-4541-c1cd-f7cbfc7c8137"
      },
      "outputs": [
        {
          "output_type": "stream",
          "name": "stdout",
          "text": [
            "Search space summary\n",
            "Default search space size: 0\n"
          ]
        }
      ],
      "source": [
        "tuner.search_space_summary()"
      ],
      "id": "6d553de9"
    },
    {
      "cell_type": "code",
      "execution_count": 16,
      "metadata": {
        "colab": {
          "base_uri": "https://localhost:8080/"
        },
        "id": "em3YelWlGLBw",
        "outputId": "849dca94-5e07-4760-8e02-b646a42a06f6"
      },
      "outputs": [
        {
          "output_type": "stream",
          "name": "stdout",
          "text": [
            "Trial 10 Complete [00h 01m 18s]\n",
            "val_mse: 0.0031522507779300213\n",
            "\n",
            "Best val_mse So Far: 0.0028397345449775457\n",
            "Total elapsed time: 00h 09m 00s\n",
            "INFO:tensorflow:Oracle triggered exit\n"
          ]
        }
      ],
      "source": [
        "\n",
        "tuner.search(\n",
        "        x=train_X,\n",
        "        y= train_y,\n",
        "        validation_data=(val_X, val_y),\n",
        "        callbacks=[custom_early_stopping]\n",
        ")"
      ],
      "id": "em3YelWlGLBw"
    },
    {
      "cell_type": "code",
      "execution_count": 17,
      "metadata": {
        "colab": {
          "base_uri": "https://localhost:8080/"
        },
        "id": "8007c390",
        "outputId": "eea9a3db-d7aa-4bf6-a740-a9dc840817a9"
      },
      "outputs": [
        {
          "output_type": "stream",
          "name": "stdout",
          "text": [
            "Results summary\n",
            "Results in ./untitled_project\n",
            "Showing 10 best trials\n",
            "Objective(name='val_mse', direction='min')\n",
            "Trial summary\n",
            "Hyperparameters:\n",
            "batch_size: 32\n",
            "epochs: 100\n",
            "Score: 0.0028397345449775457\n",
            "Trial summary\n",
            "Hyperparameters:\n",
            "batch_size: 32\n",
            "epochs: 124\n",
            "Score: 0.0028693934436887503\n",
            "Trial summary\n",
            "Hyperparameters:\n",
            "batch_size: 32\n",
            "epochs: 154\n",
            "Score: 0.002872982993721962\n",
            "Trial summary\n",
            "Hyperparameters:\n",
            "batch_size: 32\n",
            "epochs: 105\n",
            "Score: 0.0028780908323824406\n",
            "Trial summary\n",
            "Hyperparameters:\n",
            "batch_size: 32\n",
            "epochs: 87\n",
            "Score: 0.002934112912043929\n",
            "Trial summary\n",
            "Hyperparameters:\n",
            "batch_size: 32\n",
            "epochs: 112\n",
            "Score: 0.0029589219484478235\n",
            "Trial summary\n",
            "Hyperparameters:\n",
            "batch_size: 32\n",
            "epochs: 50\n",
            "Score: 0.00304769491776824\n",
            "Trial summary\n",
            "Hyperparameters:\n",
            "batch_size: 32\n",
            "epochs: 200\n",
            "Score: 0.003061003750190139\n",
            "Trial summary\n",
            "Hyperparameters:\n",
            "batch_size: 32\n",
            "epochs: 144\n",
            "Score: 0.0031522507779300213\n",
            "Trial summary\n",
            "Hyperparameters:\n",
            "batch_size: 192\n",
            "epochs: 149\n",
            "Score: 0.003911186940968037\n"
          ]
        }
      ],
      "source": [
        "tuner.results_summary()"
      ],
      "id": "8007c390"
    },
    {
      "cell_type": "code",
      "execution_count": null,
      "metadata": {
        "colab": {
          "base_uri": "https://localhost:8080/",
          "height": 312
        },
        "id": "M7LjRJs8KNo1",
        "outputId": "f17352a6-70cd-476d-91f6-3a1e1496c5ca"
      },
      "outputs": [
        {
          "name": "stdout",
          "output_type": "stream",
          "text": [
            "dict_keys(['loss', 'mse', 'val_loss', 'val_mse'])\n"
          ]
        },
        {
          "data": {
            "image/png": "[encoded data removed]",
            "text/plain": [
              "<Figure size 432x288 with 1 Axes>"
            ]
          },
          "metadata": {},
          "output_type": "display_data"
        }
      ],
      "source": [
        "from matplotlib import pyplot\n",
        "import matplotlib.pyplot as plt\n",
        "# list all data in history\n",
        "print(history.history.keys())\n",
        "# summarize history for accuracy\n",
        "plt.plot(history.history['loss'])\n",
        "plt.plot(history.history['val_loss'])\n",
        "plt.title('model loss')\n",
        "plt.ylabel('loss')\n",
        "plt.xlabel('epoch')\n",
        "plt.legend(['train', 'val'], loc='upper left')\n",
        "plt.show()"
      ],
      "id": "M7LjRJs8KNo1"
    }
  ],
  "metadata": {
    "colab": {
      "name": "24(batch_epochs)_All_Sky.ipynb",
      "provenance": [],
      "collapsed_sections": []
    },
    "kernelspec": {
      "display_name": "Python 3 (ipykernel)",
      "language": "python",
      "name": "python3"
    },
    "language_info": {
      "codemirror_mode": {
        "name": "ipython",
        "version": 3
      },
      "file_extension": ".py",
      "mimetype": "text/x-python",
      "name": "python",
      "nbconvert_exporter": "python",
      "pygments_lexer": "ipython3",
      "version": "3.8.11"
    }
  },
  "nbformat": 4,
  "nbformat_minor": 5
}