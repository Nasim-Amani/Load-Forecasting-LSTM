{
  "cells": [
    {
      "cell_type": "code",
      "source": [
        ""
      ],
      "metadata": {
        "id": "f_kPzpPvpOlq"
      },
      "id": "f_kPzpPvpOlq",
      "execution_count": null,
      "outputs": []
    },
    {
      "cell_type": "code",
      "execution_count": 1,
      "metadata": {
        "id": "7bf9189a"
      },
      "outputs": [],
      "source": [
        "import pandas as pd\n",
        "from datetime import datetime\n",
        "from pandas import DataFrame\n",
        "from pandas import read_csv\n",
        "#h=pd.read_csv(\"Clearness Index3.csv\" )\n",
        "\n",
        "#h1=h.drop([ 'insolation_clearness_index','temp','Min_temp','Claer_sky_ii','humidity','dew/frost_point','max_temp','wind_s','precipitation'], axis=1)\n",
        "#h1.to_csv('All_sky_ii.csv',  index = None)\n",
        "h1=pd.read_csv(\"All_sky_ii2.csv\" )\n",
        "\n",
        "number = 24\n",
        "elements = 1127\n",
        "\n",
        "thelist = [number] * elements\n",
        "h1['thelist'] = thelist\n",
        "\n",
        "Hour = ['01','02','03','04','05','06','07','08', '09','10','11','12','13','14','15','16','17','18','19','20','21','22','23','00']\n",
        "\n",
        "elements = 1127\n",
        "\n",
        "Hour = [Hour] * elements\n",
        "\n",
        "my_new_list = []\n",
        "for sub_list in Hour:\n",
        "    # Now go over each item of the sublist\n",
        "    for item in sub_list:\n",
        "        # append it to our new list\n",
        "        my_new_list.append(item)\n",
        "        \n",
        "        out =h1.reindex(h1.index.repeat(h1['thelist']))\n",
        "h1=out.drop(['thelist'], axis=1)\n",
        "\n",
        "h1['Hour'] = my_new_list\n",
        "h1[\"DateTime\"] = (h1[\"date\"] +\" \"+ h1[\"Hour\"])\n",
        "h_data=h1.drop(['date','Hour'],axis=1)\n",
        "\n",
        "\n",
        "h_data['DateTime'] = pd.to_datetime(h_data['DateTime'])\n",
        "\n",
        "h_data=h_data.set_index(h_data['DateTime'], drop=False, append=False, inplace=False, verify_integrity=False).drop('DateTime', 1)\n",
        "h_data.columns=['All_Sky_Insolation_Incident']\n",
        "\n",
        "#h_data"
      ],
      "id": "7bf9189a"
    },
    {
      "cell_type": "code",
      "execution_count": 2,
      "metadata": {
        "colab": {
          "base_uri": "https://localhost:8080/",
          "height": 455
        },
        "id": "Ef2LgkC3JlWz",
        "outputId": "db8b3dac-5207-43a2-b614-8c03a1431a34"
      },
      "outputs": [
        {
          "output_type": "execute_result",
          "data": {
            "text/html": [
              "\n",
              "  <div id=\"df-24176ba5-de47-442a-9709-13ad318ab6c7\">\n",
              "    <div class=\"colab-df-container\">\n",
              "      <div>\n",
              "<style scoped>\n",
              "    .dataframe tbody tr th:only-of-type {\n",
              "        vertical-align: middle;\n",
              "    }\n",
              "\n",
              "    .dataframe tbody tr th {\n",
              "        vertical-align: top;\n",
              "    }\n",
              "\n",
              "    .dataframe thead th {\n",
              "        text-align: right;\n",
              "    }\n",
              "</style>\n",
              "<table border=\"1\" class=\"dataframe\">\n",
              "  <thead>\n",
              "    <tr style=\"text-align: right;\">\n",
              "      <th></th>\n",
              "      <th>Load</th>\n",
              "      <th>All_Sky_Insolation_Incident</th>\n",
              "    </tr>\n",
              "    <tr>\n",
              "      <th>DateTime</th>\n",
              "      <th></th>\n",
              "      <th></th>\n",
              "    </tr>\n",
              "  </thead>\n",
              "  <tbody>\n",
              "    <tr>\n",
              "      <th>1987-01-01 01:00:00</th>\n",
              "      <td>1733</td>\n",
              "      <td>0.68</td>\n",
              "    </tr>\n",
              "    <tr>\n",
              "      <th>1987-01-01 02:00:00</th>\n",
              "      <td>1636</td>\n",
              "      <td>0.68</td>\n",
              "    </tr>\n",
              "    <tr>\n",
              "      <th>1987-01-01 03:00:00</th>\n",
              "      <td>1564</td>\n",
              "      <td>0.68</td>\n",
              "    </tr>\n",
              "    <tr>\n",
              "      <th>1987-01-01 04:00:00</th>\n",
              "      <td>1526</td>\n",
              "      <td>0.68</td>\n",
              "    </tr>\n",
              "    <tr>\n",
              "      <th>1987-01-01 05:00:00</th>\n",
              "      <td>1515</td>\n",
              "      <td>0.68</td>\n",
              "    </tr>\n",
              "    <tr>\n",
              "      <th>...</th>\n",
              "      <td>...</td>\n",
              "      <td>...</td>\n",
              "    </tr>\n",
              "    <tr>\n",
              "      <th>1990-01-31 20:00:00</th>\n",
              "      <td>3361</td>\n",
              "      <td>3.88</td>\n",
              "    </tr>\n",
              "    <tr>\n",
              "      <th>1990-01-31 21:00:00</th>\n",
              "      <td>3205</td>\n",
              "      <td>3.88</td>\n",
              "    </tr>\n",
              "    <tr>\n",
              "      <th>1990-01-31 22:00:00</th>\n",
              "      <td>2940</td>\n",
              "      <td>3.88</td>\n",
              "    </tr>\n",
              "    <tr>\n",
              "      <th>1990-01-31 23:00:00</th>\n",
              "      <td>2593</td>\n",
              "      <td>3.88</td>\n",
              "    </tr>\n",
              "    <tr>\n",
              "      <th>1990-01-31 00:00:00</th>\n",
              "      <td>2277</td>\n",
              "      <td>3.88</td>\n",
              "    </tr>\n",
              "  </tbody>\n",
              "</table>\n",
              "<p>27048 rows × 2 columns</p>\n",
              "</div>\n",
              "      <button class=\"colab-df-convert\" onclick=\"convertToInteractive('df-24176ba5-de47-442a-9709-13ad318ab6c7')\"\n",
              "              title=\"Convert this dataframe to an interactive table.\"\n",
              "              style=\"display:none;\">\n",
              "        \n",
              "  <svg xmlns=\"http://www.w3.org/2000/svg\" height=\"24px\"viewBox=\"0 0 24 24\"\n",
              "       width=\"24px\">\n",
              "    <path d=\"M0 0h24v24H0V0z\" fill=\"none\"/>\n",
              "    <path d=\"M18.56 5.44l.94 2.06.94-2.06 2.06-.94-2.06-.94-.94-2.06-.94 2.06-2.06.94zm-11 1L8.5 8.5l.94-2.06 2.06-.94-2.06-.94L8.5 2.5l-.94 2.06-2.06.94zm10 10l.94 2.06.94-2.06 2.06-.94-2.06-.94-.94-2.06-.94 2.06-2.06.94z\"/><path d=\"M17.41 7.96l-1.37-1.37c-.4-.4-.92-.59-1.43-.59-.52 0-1.04.2-1.43.59L10.3 9.45l-7.72 7.72c-.78.78-.78 2.05 0 2.83L4 21.41c.39.39.9.59 1.41.59.51 0 1.02-.2 1.41-.59l7.78-7.78 2.81-2.81c.8-.78.8-2.07 0-2.86zM5.41 20L4 18.59l7.72-7.72 1.47 1.35L5.41 20z\"/>\n",
              "  </svg>\n",
              "      </button>\n",
              "      \n",
              "  <style>\n",
              "    .colab-df-container {\n",
              "      display:flex;\n",
              "      flex-wrap:wrap;\n",
              "      gap: 12px;\n",
              "    }\n",
              "\n",
              "    .colab-df-convert {\n",
              "      background-color: #E8F0FE;\n",
              "      border: none;\n",
              "      border-radius: 50%;\n",
              "      cursor: pointer;\n",
              "      display: none;\n",
              "      fill: #1967D2;\n",
              "      height: 32px;\n",
              "      padding: 0 0 0 0;\n",
              "      width: 32px;\n",
              "    }\n",
              "\n",
              "    .colab-df-convert:hover {\n",
              "      background-color: #E2EBFA;\n",
              "      box-shadow: 0px 1px 2px rgba(60, 64, 67, 0.3), 0px 1px 3px 1px rgba(60, 64, 67, 0.15);\n",
              "      fill: #174EA6;\n",
              "    }\n",
              "\n",
              "    [theme=dark] .colab-df-convert {\n",
              "      background-color: #3B4455;\n",
              "      fill: #D2E3FC;\n",
              "    }\n",
              "\n",
              "    [theme=dark] .colab-df-convert:hover {\n",
              "      background-color: #434B5C;\n",
              "      box-shadow: 0px 1px 3px 1px rgba(0, 0, 0, 0.15);\n",
              "      filter: drop-shadow(0px 1px 2px rgba(0, 0, 0, 0.3));\n",
              "      fill: #FFFFFF;\n",
              "    }\n",
              "  </style>\n",
              "\n",
              "      <script>\n",
              "        const buttonEl =\n",
              "          document.querySelector('#df-24176ba5-de47-442a-9709-13ad318ab6c7 button.colab-df-convert');\n",
              "        buttonEl.style.display =\n",
              "          google.colab.kernel.accessAllowed ? 'block' : 'none';\n",
              "\n",
              "        async function convertToInteractive(key) {\n",
              "          const element = document.querySelector('#df-24176ba5-de47-442a-9709-13ad318ab6c7');\n",
              "          const dataTable =\n",
              "            await google.colab.kernel.invokeFunction('convertToInteractive',\n",
              "                                                     [key], {});\n",
              "          if (!dataTable) return;\n",
              "\n",
              "          const docLinkHtml = 'Like what you see? Visit the ' +\n",
              "            '<a target=\"_blank\" href=https://colab.research.google.com/notebooks/data_table.ipynb>data table notebook</a>'\n",
              "            + ' to learn more about interactive tables.';\n",
              "          element.innerHTML = '';\n",
              "          dataTable['output_type'] = 'display_data';\n",
              "          await google.colab.output.renderOutput(dataTable, element);\n",
              "          const docLink = document.createElement('div');\n",
              "          docLink.innerHTML = docLinkHtml;\n",
              "          element.appendChild(docLink);\n",
              "        }\n",
              "      </script>\n",
              "    </div>\n",
              "  </div>\n",
              "  "
            ],
            "text/plain": [
              "                     Load  All_Sky_Insolation_Incident\n",
              "DateTime                                              \n",
              "1987-01-01 01:00:00  1733                         0.68\n",
              "1987-01-01 02:00:00  1636                         0.68\n",
              "1987-01-01 03:00:00  1564                         0.68\n",
              "1987-01-01 04:00:00  1526                         0.68\n",
              "1987-01-01 05:00:00  1515                         0.68\n",
              "...                   ...                          ...\n",
              "1990-01-31 20:00:00  3361                         3.88\n",
              "1990-01-31 21:00:00  3205                         3.88\n",
              "1990-01-31 22:00:00  2940                         3.88\n",
              "1990-01-31 23:00:00  2593                         3.88\n",
              "1990-01-31 00:00:00  2277                         3.88\n",
              "\n",
              "[27048 rows x 2 columns]"
            ]
          },
          "metadata": {},
          "execution_count": 2
        }
      ],
      "source": [
        "\n",
        "d = pd.read_csv(\"load3.csv\" )\n",
        "\n",
        "d.columns = ['date' ,'01','02','03','04','05','06','07','08', '09','10','11','12','13','14','15','16','17','18','19','20','21','22','23','00']\n",
        "d.to_csv('load3.csv',  index = None)\n",
        "\n",
        "from pandas import DataFrame\n",
        "\n",
        "# read first line\n",
        "with open(\"load3.csv\") as myfile:\n",
        "    headRow = next(myfile)\n",
        "\n",
        "# read column names    \n",
        "columns = [x.strip() for x in headRow.split(',')]\n",
        "\n",
        "# process by pandas\n",
        "data = pd.read_csv(\"load3.csv\", names=columns[1:], skiprows=1)\n",
        "\n",
        "stacked=data.stack()\n",
        "\n",
        "stacked = stacked.to_frame()\n",
        "stacked.columns=['Load']\n",
        "s=stacked.reset_index()\n",
        "s.columns=['Date','Hour','Load']\n",
        "s[\"DateTime\"] = (s[\"Date\"] +\" \"+ s[\"Hour\"])\n",
        "s = s[[\"DateTime\",\"Load\"]]\n",
        "from datetime import datetime\n",
        "\n",
        "s['DateTime'] = pd.to_datetime(s['DateTime'])\n",
        "dataset=s.set_index(s['DateTime'], drop=False, append=False, inplace=False, verify_integrity=False).drop('DateTime', 1)\n",
        "#dataset\n",
        "\n",
        "df=pd.merge(dataset,h_data,on='DateTime')\n",
        "\n",
        "df"
      ],
      "id": "Ef2LgkC3JlWz"
    },
    {
      "cell_type": "code",
      "execution_count": 3,
      "metadata": {
        "id": "jyym_gfUJuPV"
      },
      "outputs": [],
      "source": [
        "from pandas import concat\n",
        " \n",
        "def series_to_supervised(data, n_in=1, n_out=1, dropnan=True):\n",
        "\t\"\"\"\n",
        "\tFrame a time series as a supervised learning dataset.\n",
        "\tArguments:\n",
        "\t\tdata: Sequence of observations as a list or NumPy array.\n",
        "\t\tn_in: Number of lag observations as input (X).\n",
        "\t\tn_out: Number of observations as output (y).\n",
        "\t\tdropnan: Boolean whether or not to drop rows with NaN values.\n",
        "\tReturns:\n",
        "\t\tPandas DataFrame of series framed for supervised learning.\n",
        "\t\"\"\"\n",
        "\tn_vars = 1 if type(data) is list else data.shape[1]\n",
        "\tdf = DataFrame(data)\n",
        "\tcols, names = list(), list()\n",
        "\t# input sequence (t-n, ... t-1)\n",
        "\tfor i in range(n_in, 0, -1):\n",
        "\t\tcols.append(df.shift(i))\n",
        "\t\tnames += [('var%d(t-%d)' % (j+1, i)) for j in range(n_vars)]\n",
        "\t# forecast sequence (t, t+1, ... t+n)\n",
        "\tfor i in range(0, n_out):\n",
        "\t\tcols.append(df.shift(-i))\n",
        "\t\tif i == 0:\n",
        "\t\t\tnames += [('var%d(t)' % (j+1)) for j in range(n_vars)]\n",
        "\t\telse:\n",
        "\t\t\tnames += [('var%d(t+%d)' % (j+1, i)) for j in range(n_vars)]\n",
        "\t# put it all together\n",
        "\tagg = concat(cols, axis=1)\n",
        "\tagg.columns = names\n",
        "\t# drop rows with NaN values\n",
        "\tif dropnan:\n",
        "\t\tagg.dropna(inplace=True)\n",
        "\treturn agg"
      ],
      "id": "jyym_gfUJuPV"
    },
    {
      "cell_type": "code",
      "execution_count": 4,
      "metadata": {
        "colab": {
          "base_uri": "https://localhost:8080/"
        },
        "id": "RVMABdv9J0C_",
        "outputId": "900f614d-628d-4563-c64f-4dabaa69b575"
      },
      "outputs": [
        {
          "output_type": "stream",
          "name": "stdout",
          "text": [
            "16228 10820\n"
          ]
        }
      ],
      "source": [
        "train_size = int(len(df) * 0.6)\n",
        "test_size = len(df) - train_size\n",
        "train, test = df.iloc[0:train_size], df.iloc[train_size:len(df)]\n",
        "print(len(train), len(test))\n",
        "\n",
        "test_size = int(len(test) * 0.5)\n",
        "val_size = len(test) - test_size\n",
        "val, test = test.iloc[0:test_size], test.iloc[test_size:len(test)]\n"
      ],
      "id": "RVMABdv9J0C_"
    },
    {
      "cell_type": "code",
      "execution_count": 6,
      "metadata": {
        "colab": {
          "base_uri": "https://localhost:8080/"
        },
        "id": "0Wb_ePNSJ2Qb",
        "outputId": "1e8e2352-726d-44d4-9959-e5cf54a136cd"
      },
      "outputs": [
        {
          "output_type": "execute_result",
          "data": {
            "text/plain": [
              "(                         Load  All_Sky_Insolation_Incident\n",
              " DateTime                                                  \n",
              " 1988-11-07 05:00:00  0.447761                     0.189158\n",
              " 1988-11-07 06:00:00  0.538143                     0.189158\n",
              " 1988-11-07 07:00:00  0.691266                     0.189158\n",
              " 1988-11-07 08:00:00  0.771973                     0.189158\n",
              " 1988-11-07 09:00:00  0.759259                     0.189158\n",
              " ...                       ...                          ...\n",
              " 1989-06-20 10:00:00  0.598121                     0.340254\n",
              " 1989-06-20 11:00:00  0.593422                     0.340254\n",
              " 1989-06-20 12:00:00  0.580984                     0.340254\n",
              " 1989-06-20 13:00:00  0.571310                     0.340254\n",
              " 1989-06-20 14:00:00  0.555832                     0.340254\n",
              " \n",
              " [5410 rows x 2 columns],\n",
              "                          Load  All_Sky_Insolation_Incident\n",
              " DateTime                                                  \n",
              " 1989-06-20 15:00:00  0.545605                     0.340254\n",
              " 1989-06-20 16:00:00  0.541183                     0.340254\n",
              " 1989-06-20 17:00:00  0.545605                     0.340254\n",
              " 1989-06-20 18:00:00  0.559149                     0.340254\n",
              " 1989-06-20 19:00:00  0.556108                     0.340254\n",
              " ...                       ...                          ...\n",
              " 1990-01-31 20:00:00  0.928966                     0.430219\n",
              " 1990-01-31 21:00:00  0.885849                     0.430219\n",
              " 1990-01-31 22:00:00  0.812604                     0.430219\n",
              " 1990-01-31 23:00:00  0.716694                     0.430219\n",
              " 1990-01-31 00:00:00  0.629353                     0.430219\n",
              " \n",
              " [5410 rows x 2 columns])"
            ]
          },
          "metadata": {},
          "execution_count": 6
        }
      ],
      "source": [
        "val,test"
      ],
      "id": "0Wb_ePNSJ2Qb"
    },
    {
      "cell_type": "code",
      "execution_count": 5,
      "metadata": {
        "colab": {
          "base_uri": "https://localhost:8080/"
        },
        "id": "FEOdHthZJ9dK",
        "outputId": "0621a945-e443-4752-ad8c-ac49a89d6b60"
      },
      "outputs": [
        {
          "output_type": "stream",
          "name": "stderr",
          "text": [
            "/usr/local/lib/python3.7/dist-packages/pandas/core/indexing.py:1734: SettingWithCopyWarning: \n",
            "A value is trying to be set on a copy of a slice from a DataFrame.\n",
            "Try using .loc[row_indexer,col_indexer] = value instead\n",
            "\n",
            "See the caveats in the documentation: https://pandas.pydata.org/pandas-docs/stable/user_guide/indexing.html#returning-a-view-versus-a-copy\n",
            "  isetter(loc, value[:, i].tolist())\n",
            "/usr/local/lib/python3.7/dist-packages/ipykernel_launcher.py:13: SettingWithCopyWarning: \n",
            "A value is trying to be set on a copy of a slice from a DataFrame.\n",
            "Try using .loc[row_indexer,col_indexer] = value instead\n",
            "\n",
            "See the caveats in the documentation: https://pandas.pydata.org/pandas-docs/stable/user_guide/indexing.html#returning-a-view-versus-a-copy\n",
            "  del sys.path[0]\n"
          ]
        }
      ],
      "source": [
        "\n",
        "from sklearn.preprocessing import MinMaxScaler\n",
        "\n",
        "f_columns = ['All_Sky_Insolation_Incident']\n",
        "\n",
        "f_transformer = MinMaxScaler()\n",
        "t_transformer = MinMaxScaler()\n",
        "\n",
        "f_transformer = f_transformer.fit(train[f_columns].to_numpy())\n",
        "t_transformer = t_transformer.fit(train[['Load']])\n",
        "\n",
        "train.loc[:, f_columns] = f_transformer.transform(train[f_columns].to_numpy())\n",
        "train['Load'] = t_transformer.transform(train[['Load']])\n",
        "\n",
        "val.loc[:, f_columns] = f_transformer.transform(val[f_columns].to_numpy())\n",
        "val['Load'] = t_transformer.transform(val[['Load']])\n",
        "\n",
        "\n",
        "test.loc[:, f_columns] = f_transformer.transform(test[f_columns].to_numpy())\n",
        "test['Load'] = t_transformer.transform(test[['Load']])\n"
      ],
      "id": "FEOdHthZJ9dK"
    },
    {
      "cell_type": "code",
      "execution_count": 7,
      "metadata": {
        "colab": {
          "base_uri": "https://localhost:8080/"
        },
        "id": "0OZEr4QLjRov",
        "outputId": "a828b860-a18f-4773-b9a9-3f815891a8ec"
      },
      "outputs": [
        {
          "output_type": "stream",
          "name": "stdout",
          "text": [
            "(16181, 24, 2) (16181,) (5363, 24, 2) (5363,) (5363, 24, 2) (5363,)\n"
          ]
        }
      ],
      "source": [
        "n_hours = 24\n",
        "n_features = 2\n",
        "# frame as supervised learning\n",
        "tarin_reframed = series_to_supervised(train, n_hours, 24)\n",
        "test_reframed = series_to_supervised(test, n_hours, 24)\n",
        "val_reframed = series_to_supervised(val, n_hours, 24)\n",
        "\n",
        "\n",
        "\n",
        "# split into train and test sets\n",
        "train_values = tarin_reframed.values\n",
        "test_values = test_reframed.values\n",
        "val_values = val_reframed.values\n",
        "\n",
        "#n_train_hours = 21614\n",
        "#train2 = values[:n_train_hours, :]\n",
        "#test2 = values[n_train_hours:, :]\n",
        "\n",
        "# split into input and outputs\n",
        "n_obs = n_hours * n_features\n",
        "\n",
        "train_X, train_y = train_values[:, :n_obs], train_values[:, -n_features]\n",
        "test_X, test_y = test_values[:, :n_obs], test_values[:, -n_features]\n",
        "val_X, val_y = val_values[:, :n_obs], val_values[:, -n_features]\n",
        "\n",
        "\n",
        "# reshape input to be 3D [samples, timesteps, features]\n",
        "train_X = train_X.reshape((train_X.shape[0], n_hours, n_features))\n",
        "test_X = test_X.reshape((test_X.shape[0], n_hours, n_features))\n",
        "val_X = val_X.reshape((val_X.shape[0], n_hours, n_features))\n",
        "print(train_X.shape, train_y.shape,val_X.shape,  val_y.shape,test_X.shape, test_y.shape)"
      ],
      "id": "0OZEr4QLjRov"
    },
    {
      "cell_type": "code",
      "execution_count": 8,
      "metadata": {
        "colab": {
          "base_uri": "https://localhost:8080/"
        },
        "id": "RPxP2-0sKTH1",
        "outputId": "315e308e-763d-4059-8ce5-1b96bcd7231f"
      },
      "outputs": [
        {
          "output_type": "stream",
          "name": "stdout",
          "text": [
            "Collecting keras_tuner\n",
            "  Downloading keras_tuner-1.1.0-py3-none-any.whl (98 kB)\n",
            "\u001b[?25l\r\u001b[K     |███▍                            | 10 kB 14.7 MB/s eta 0:00:01\r\u001b[K     |██████▊                         | 20 kB 9.5 MB/s eta 0:00:01\r\u001b[K     |██████████                      | 30 kB 6.0 MB/s eta 0:00:01\r\u001b[K     |█████████████▍                  | 40 kB 3.6 MB/s eta 0:00:01\r\u001b[K     |████████████████▊               | 51 kB 4.4 MB/s eta 0:00:01\r\u001b[K     |████████████████████            | 61 kB 3.8 MB/s eta 0:00:01\r\u001b[K     |███████████████████████▍        | 71 kB 4.3 MB/s eta 0:00:01\r\u001b[K     |██████████████████████████▊     | 81 kB 4.8 MB/s eta 0:00:01\r\u001b[K     |██████████████████████████████  | 92 kB 4.2 MB/s eta 0:00:01\r\u001b[K     |████████████████████████████████| 98 kB 2.7 MB/s \n",
            "\u001b[?25hCollecting kt-legacy\n",
            "  Downloading kt_legacy-1.0.4-py3-none-any.whl (9.6 kB)\n",
            "Requirement already satisfied: packaging in /usr/local/lib/python3.7/dist-packages (from keras_tuner) (21.3)\n",
            "Requirement already satisfied: requests in /usr/local/lib/python3.7/dist-packages (from keras_tuner) (2.23.0)\n",
            "Requirement already satisfied: scipy in /usr/local/lib/python3.7/dist-packages (from keras_tuner) (1.4.1)\n",
            "Requirement already satisfied: tensorboard in /usr/local/lib/python3.7/dist-packages (from keras_tuner) (2.7.0)\n",
            "Requirement already satisfied: ipython in /usr/local/lib/python3.7/dist-packages (from keras_tuner) (5.5.0)\n",
            "Requirement already satisfied: numpy in /usr/local/lib/python3.7/dist-packages (from keras_tuner) (1.19.5)\n",
            "Requirement already satisfied: pexpect in /usr/local/lib/python3.7/dist-packages (from ipython->keras_tuner) (4.8.0)\n",
            "Requirement already satisfied: simplegeneric>0.8 in /usr/local/lib/python3.7/dist-packages (from ipython->keras_tuner) (0.8.1)\n",
            "Requirement already satisfied: pygments in /usr/local/lib/python3.7/dist-packages (from ipython->keras_tuner) (2.6.1)\n",
            "Requirement already satisfied: traitlets>=4.2 in /usr/local/lib/python3.7/dist-packages (from ipython->keras_tuner) (5.1.1)\n",
            "Requirement already satisfied: decorator in /usr/local/lib/python3.7/dist-packages (from ipython->keras_tuner) (4.4.2)\n",
            "Requirement already satisfied: setuptools>=18.5 in /usr/local/lib/python3.7/dist-packages (from ipython->keras_tuner) (57.4.0)\n",
            "Requirement already satisfied: prompt-toolkit<2.0.0,>=1.0.4 in /usr/local/lib/python3.7/dist-packages (from ipython->keras_tuner) (1.0.18)\n",
            "Requirement already satisfied: pickleshare in /usr/local/lib/python3.7/dist-packages (from ipython->keras_tuner) (0.7.5)\n",
            "Requirement already satisfied: wcwidth in /usr/local/lib/python3.7/dist-packages (from prompt-toolkit<2.0.0,>=1.0.4->ipython->keras_tuner) (0.2.5)\n",
            "Requirement already satisfied: six>=1.9.0 in /usr/local/lib/python3.7/dist-packages (from prompt-toolkit<2.0.0,>=1.0.4->ipython->keras_tuner) (1.15.0)\n",
            "Requirement already satisfied: pyparsing!=3.0.5,>=2.0.2 in /usr/local/lib/python3.7/dist-packages (from packaging->keras_tuner) (3.0.6)\n",
            "Requirement already satisfied: ptyprocess>=0.5 in /usr/local/lib/python3.7/dist-packages (from pexpect->ipython->keras_tuner) (0.7.0)\n",
            "Requirement already satisfied: chardet<4,>=3.0.2 in /usr/local/lib/python3.7/dist-packages (from requests->keras_tuner) (3.0.4)\n",
            "Requirement already satisfied: certifi>=2017.4.17 in /usr/local/lib/python3.7/dist-packages (from requests->keras_tuner) (2021.10.8)\n",
            "Requirement already satisfied: idna<3,>=2.5 in /usr/local/lib/python3.7/dist-packages (from requests->keras_tuner) (2.10)\n",
            "Requirement already satisfied: urllib3!=1.25.0,!=1.25.1,<1.26,>=1.21.1 in /usr/local/lib/python3.7/dist-packages (from requests->keras_tuner) (1.24.3)\n",
            "Requirement already satisfied: absl-py>=0.4 in /usr/local/lib/python3.7/dist-packages (from tensorboard->keras_tuner) (0.12.0)\n",
            "Requirement already satisfied: protobuf>=3.6.0 in /usr/local/lib/python3.7/dist-packages (from tensorboard->keras_tuner) (3.17.3)\n",
            "Requirement already satisfied: werkzeug>=0.11.15 in /usr/local/lib/python3.7/dist-packages (from tensorboard->keras_tuner) (1.0.1)\n",
            "Requirement already satisfied: google-auth<3,>=1.6.3 in /usr/local/lib/python3.7/dist-packages (from tensorboard->keras_tuner) (1.35.0)\n",
            "Requirement already satisfied: wheel>=0.26 in /usr/local/lib/python3.7/dist-packages (from tensorboard->keras_tuner) (0.37.1)\n",
            "Requirement already satisfied: google-auth-oauthlib<0.5,>=0.4.1 in /usr/local/lib/python3.7/dist-packages (from tensorboard->keras_tuner) (0.4.6)\n",
            "Requirement already satisfied: tensorboard-data-server<0.7.0,>=0.6.0 in /usr/local/lib/python3.7/dist-packages (from tensorboard->keras_tuner) (0.6.1)\n",
            "Requirement already satisfied: tensorboard-plugin-wit>=1.6.0 in /usr/local/lib/python3.7/dist-packages (from tensorboard->keras_tuner) (1.8.1)\n",
            "Requirement already satisfied: markdown>=2.6.8 in /usr/local/lib/python3.7/dist-packages (from tensorboard->keras_tuner) (3.3.6)\n",
            "Requirement already satisfied: grpcio>=1.24.3 in /usr/local/lib/python3.7/dist-packages (from tensorboard->keras_tuner) (1.43.0)\n",
            "Requirement already satisfied: cachetools<5.0,>=2.0.0 in /usr/local/lib/python3.7/dist-packages (from google-auth<3,>=1.6.3->tensorboard->keras_tuner) (4.2.4)\n",
            "Requirement already satisfied: pyasn1-modules>=0.2.1 in /usr/local/lib/python3.7/dist-packages (from google-auth<3,>=1.6.3->tensorboard->keras_tuner) (0.2.8)\n",
            "Requirement already satisfied: rsa<5,>=3.1.4 in /usr/local/lib/python3.7/dist-packages (from google-auth<3,>=1.6.3->tensorboard->keras_tuner) (4.8)\n",
            "Requirement already satisfied: requests-oauthlib>=0.7.0 in /usr/local/lib/python3.7/dist-packages (from google-auth-oauthlib<0.5,>=0.4.1->tensorboard->keras_tuner) (1.3.0)\n",
            "Requirement already satisfied: importlib-metadata>=4.4 in /usr/local/lib/python3.7/dist-packages (from markdown>=2.6.8->tensorboard->keras_tuner) (4.10.0)\n",
            "Requirement already satisfied: typing-extensions>=3.6.4 in /usr/local/lib/python3.7/dist-packages (from importlib-metadata>=4.4->markdown>=2.6.8->tensorboard->keras_tuner) (3.10.0.2)\n",
            "Requirement already satisfied: zipp>=0.5 in /usr/local/lib/python3.7/dist-packages (from importlib-metadata>=4.4->markdown>=2.6.8->tensorboard->keras_tuner) (3.7.0)\n",
            "Requirement already satisfied: pyasn1<0.5.0,>=0.4.6 in /usr/local/lib/python3.7/dist-packages (from pyasn1-modules>=0.2.1->google-auth<3,>=1.6.3->tensorboard->keras_tuner) (0.4.8)\n",
            "Requirement already satisfied: oauthlib>=3.0.0 in /usr/local/lib/python3.7/dist-packages (from requests-oauthlib>=0.7.0->google-auth-oauthlib<0.5,>=0.4.1->tensorboard->keras_tuner) (3.1.1)\n",
            "Installing collected packages: kt-legacy, keras-tuner\n",
            "Successfully installed keras-tuner-1.1.0 kt-legacy-1.0.4\n"
          ]
        }
      ],
      "source": [
        "!pip install keras_tuner"
      ],
      "id": "RPxP2-0sKTH1"
    },
    {
      "cell_type": "code",
      "execution_count": 9,
      "metadata": {
        "id": "DZdQPTydKKNg"
      },
      "outputs": [],
      "source": [
        "\n",
        "\n",
        "import pandas as pd\n",
        "import math\n",
        "import keras\n",
        "import numpy as np\n",
        "from sklearn.preprocessing import MinMaxScaler\n",
        "from tensorflow.keras.models import save_model\n",
        "from tensorflow.keras.models import model_from_json\n",
        "from tensorflow.keras.models import Sequential\n",
        "from tensorflow.keras.layers import Dense\n",
        "from tensorflow.keras.layers import LSTM\n",
        "from tensorflow.keras.layers import Dropout\n",
        "import keras_tuner\n",
        "#from kerastuner.tuners import RandomSearch\n",
        "#from kerastuner.engine.hyperparameters import HyperParameters\n",
        "from pickle import dump,load\n",
        "from keras_tuner import RandomSearch\n",
        "from keras_tuner import HyperModel\n",
        "from keras_tuner import HyperParameters\n",
        "import warnings\n",
        "warnings.simplefilter(\"ignore\", UserWarning)\n",
        "from tensorflow.keras import layers"
      ],
      "id": "DZdQPTydKKNg"
    },
    {
      "cell_type": "code",
      "execution_count": 10,
      "metadata": {
        "id": "rNNKzzCcKM9Z"
      },
      "outputs": [],
      "source": [
        "from tensorflow.keras.callbacks import EarlyStopping\n",
        "custom_early_stopping = EarlyStopping(\n",
        "    monitor='val_loss', \n",
        "    patience=3, \n",
        "    min_delta=0.001, #10^-3\n",
        "    mode='auto'\n",
        ")"
      ],
      "id": "rNNKzzCcKM9Z"
    },
    {
      "cell_type": "code",
      "execution_count": 11,
      "metadata": {
        "id": "Hv7GkIgDnzHY"
      },
      "outputs": [],
      "source": [
        "import tensorflow as tf\n",
        "def build_model(hp):\n",
        "    model = keras.Sequential()\n",
        "    tf.keras.Input(shape=(train_X.shape[1], train_X.shape[2]))\n",
        "    for i in range(hp.Int('num_layers', 0, 5)):\n",
        "        \n",
        "        model.add(layers.LSTM(units=hp.Int('units_' + str(i),\n",
        "                                            min_value=32,\n",
        "                                            max_value=512,\n",
        "                                            step=32)\n",
        "                             , return_sequences=True\n",
        "                              ))\n",
        "    model.add(layers.LSTM(units=hp.Int('Last_units' ,\n",
        "                                            min_value=32,\n",
        "                                            max_value=512,\n",
        "                                            step=32) ))\n",
        "   \n",
        "    \n",
        "    if hp.Boolean(\"dropout\"):\n",
        "       model.add(layers.Dropout(rate=0.25)) \n",
        "\n",
        "    model.add(layers.Dense(1))\n",
        "    model.compile(\n",
        "        optimizer=tf.keras.optimizers.Adam(),\n",
        "        loss='mean_squared_error',\n",
        "        metrics=['mse'])\n",
        "    return model"
      ],
      "id": "Hv7GkIgDnzHY"
    },
    {
      "cell_type": "code",
      "execution_count": 12,
      "metadata": {
        "id": "WLqTd3BZKu6U"
      },
      "outputs": [],
      "source": [
        "tuner = RandomSearch(\n",
        "    build_model,\n",
        "    objective='val_mse',\n",
        "    max_trials=3,\n",
        "    executions_per_trial=1,\n",
        "    overwrite=True\n",
        ")"
      ],
      "id": "WLqTd3BZKu6U"
    },
    {
      "cell_type": "code",
      "execution_count": 13,
      "metadata": {
        "colab": {
          "base_uri": "https://localhost:8080/"
        },
        "id": "NTOKtPm8KxDD",
        "outputId": "78944e70-01fc-4a6c-ef5c-933e679a0499"
      },
      "outputs": [
        {
          "output_type": "stream",
          "name": "stdout",
          "text": [
            "Search space summary\n",
            "Default search space size: 3\n",
            "num_layers (Int)\n",
            "{'default': None, 'conditions': [], 'min_value': 0, 'max_value': 5, 'step': 1, 'sampling': None}\n",
            "Last_units (Int)\n",
            "{'default': None, 'conditions': [], 'min_value': 32, 'max_value': 512, 'step': 32, 'sampling': None}\n",
            "dropout (Boolean)\n",
            "{'default': False, 'conditions': []}\n"
          ]
        }
      ],
      "source": [
        "tuner.search_space_summary()"
      ],
      "id": "NTOKtPm8KxDD"
    },
    {
      "cell_type": "code",
      "execution_count": 14,
      "metadata": {
        "colab": {
          "base_uri": "https://localhost:8080/"
        },
        "id": "ubqL5f6PK07U",
        "outputId": "e6e97785-4289-4193-96fd-e81b482d29cf"
      },
      "outputs": [
        {
          "output_type": "stream",
          "name": "stdout",
          "text": [
            "Trial 3 Complete [00h 02m 46s]\n",
            "val_mse: 0.002855610568076372\n",
            "\n",
            "Best val_mse So Far: 0.0028098279144614935\n",
            "Total elapsed time: 00h 15m 26s\n",
            "INFO:tensorflow:Oracle triggered exit\n"
          ]
        }
      ],
      "source": [
        "tuner.search(\n",
        "        x=train_X,\n",
        "        y= train_y,\n",
        "        epochs=200,\n",
        "        batch_size=32,\n",
        "        validation_data=(val_X, val_y),\n",
        "        callbacks=[custom_early_stopping]\n",
        ")"
      ],
      "id": "ubqL5f6PK07U"
    },
    {
      "cell_type": "code",
      "execution_count": 15,
      "metadata": {
        "colab": {
          "base_uri": "https://localhost:8080/"
        },
        "id": "K1VbxP1QK4Jh",
        "outputId": "19da5b11-5a15-4689-e1a3-6023a4383971"
      },
      "outputs": [
        {
          "output_type": "stream",
          "name": "stdout",
          "text": [
            "Results summary\n",
            "Results in ./untitled_project\n",
            "Showing 10 best trials\n",
            "Objective(name='val_mse', direction='min')\n",
            "Trial summary\n",
            "Hyperparameters:\n",
            "num_layers: 1\n",
            "Last_units: 320\n",
            "dropout: False\n",
            "units_0: 32\n",
            "Score: 0.0028098279144614935\n",
            "Trial summary\n",
            "Hyperparameters:\n",
            "num_layers: 1\n",
            "Last_units: 64\n",
            "dropout: True\n",
            "units_0: 96\n",
            "units_1: 288\n",
            "units_2: 352\n",
            "units_3: 320\n",
            "Score: 0.002855610568076372\n",
            "Trial summary\n",
            "Hyperparameters:\n",
            "num_layers: 4\n",
            "Last_units: 64\n",
            "dropout: False\n",
            "units_0: 96\n",
            "units_1: 32\n",
            "units_2: 32\n",
            "units_3: 32\n",
            "Score: 0.003487862879410386\n"
          ]
        }
      ],
      "source": [
        "tuner.results_summary()"
      ],
      "id": "K1VbxP1QK4Jh"
    },
    {
      "cell_type": "code",
      "execution_count": null,
      "metadata": {
        "id": "0T5Or0JeK4Es"
      },
      "outputs": [],
      "source": [
        ""
      ],
      "id": "0T5Or0JeK4Es"
    },
    {
      "cell_type": "code",
      "execution_count": null,
      "metadata": {
        "id": "fce76d63"
      },
      "outputs": [],
      "source": [
        "\n",
        "\n",
        "model=tuner.get_best_models()[0]\n",
        "history=model.fit(train_X,train_y, epochs=1,batch_size=64, validation_data=(val_X, val_y))\n",
        "\n",
        "\n",
        "from math import sqrt\n",
        "from sklearn.metrics import mean_squared_error\n",
        "\n",
        "\n",
        "y_pred = model.predict(test_X)\n",
        "\n",
        "\n",
        "#inverse\n",
        "y_test_inv = t_transformer.inverse_transform(test_y.reshape((len(test_y), 1)))\n",
        "y_pred_inv = t_transformer.inverse_transform(y_pred)\n",
        "\n",
        "# calculate RMSE\n",
        "rmse = sqrt(mean_squared_error(y_test_inv, y_pred_inv))\n",
        "print('Test RMSE: %.3f' % rmse)\n"
      ],
      "id": "fce76d63"
    }
  ],
  "metadata": {
    "colab": {
      "collapsed_sections": [],
      "name": "24(5layers)_All_Sky.ipynb",
      "provenance": []
    },
    "kernelspec": {
      "display_name": "Python 3 (ipykernel)",
      "language": "python",
      "name": "python3"
    },
    "language_info": {
      "codemirror_mode": {
        "name": "ipython",
        "version": 3
      },
      "file_extension": ".py",
      "mimetype": "text/x-python",
      "name": "python",
      "nbconvert_exporter": "python",
      "pygments_lexer": "ipython3",
      "version": "3.8.11"
    }
  },
  "nbformat": 4,
  "nbformat_minor": 5
}